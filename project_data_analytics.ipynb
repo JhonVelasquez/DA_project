{
 "cells": [
  {
   "cell_type": "markdown",
   "metadata": {},
   "source": [
    "# Analysis of life expectancy of developing countries in 2015\n",
    "\n",
    "### * Problem:\n",
    "This project shows approaches the formulation of a model that can describe life expectancy of third world countries in an specific year, 2015 in this case.\n",
    "### * Purpose:\n",
    "Obtaining a model in this project is useful in further studies for predicting how is life expectancy changing across the years.\n",
    "### * Dataset:\n",
    "The data used in this model was obtained directly from Kaggle ([link to the repository](https://www.kaggle.com/datasets/kumarajarshi/life-expectancy-who)). This dataset was made taking The Global Health Observatory official repository website.\n",
    "### * Procedure:\n",
    "\n",
    "1. Data preprocessing\n",
    "\n",
    "1. Modeling design: This procedure applies for both designed models, one uses the normal distributon and the other the gamma.\n",
    "    * Prior: Considering the normalized histogram, the values for the priors were selected manually just by trying to find a similarity with the original data histogram. Also, each parameter for the normal and gamma distributions were modelled as normal and with a standart deviation approximadelty as 30% of the mean.\n",
    "\n",
    "    * Fiting: From obtaining a prior, the fiting was performed taking the normalized life expectency.\n",
    "    \n",
    "    * Posterior prediction: In the same fiting stan model, it was generated a prediction using the same parameters fitted in one iteration.\n",
    "\n",
    "\n",
    "1. Models comparisson:\n",
    "    * Normalized histograms of original normalized data, prior and posterior prediction were plotted. Perhaps this does not give a quantified comparisson. It does show how posterior predicted fits better to original data.\n",
    "    \n",
    "    * Both models were compared using WAIC and LOO information criteria. This does give quantified comparisson criteria.\n"
   ]
  },
  {
   "cell_type": "code",
   "execution_count": 128,
   "metadata": {},
   "outputs": [],
   "source": [
    "from cmdstanpy import CmdStanModel\n",
    "\n",
    "import arviz as az\n",
    "import numpy as np\n",
    "import scipy.stats as stats\n",
    "\n",
    "import pandas as pd\n",
    "\n",
    "import matplotlib.pyplot as plt\n",
    "import matplotlib as mpl"
   ]
  },
  {
   "cell_type": "markdown",
   "metadata": {},
   "source": [
    "# 1. Data preprocessing"
   ]
  },
  {
   "cell_type": "markdown",
   "metadata": {},
   "source": [
    "The complete dataset from Kaggle was not used, the life expectancy column was filtered considering the country is developing and the year is 2015. Then it was normalized using Linear scaling method.\n",
    "\n",
    "Enventhough the selected year 2015, it is important to point out that the histograms in each other year are pretty similar between them. Therefore, the same model could also be applied on the data from other years. "
   ]
  },
  {
   "cell_type": "code",
   "execution_count": 129,
   "metadata": {},
   "outputs": [],
   "source": [
    "data = pd.read_csv('./Life_Expectancy_Data.csv',index_col=0)"
   ]
  },
  {
   "cell_type": "code",
   "execution_count": 130,
   "metadata": {},
   "outputs": [
    {
     "data": {
      "text/html": [
       "<div>\n",
       "<style scoped>\n",
       "    .dataframe tbody tr th:only-of-type {\n",
       "        vertical-align: middle;\n",
       "    }\n",
       "\n",
       "    .dataframe tbody tr th {\n",
       "        vertical-align: top;\n",
       "    }\n",
       "\n",
       "    .dataframe thead th {\n",
       "        text-align: right;\n",
       "    }\n",
       "</style>\n",
       "<table border=\"1\" class=\"dataframe\">\n",
       "  <thead>\n",
       "    <tr style=\"text-align: right;\">\n",
       "      <th></th>\n",
       "      <th>Year</th>\n",
       "      <th>Status</th>\n",
       "      <th>Life expectancy</th>\n",
       "      <th>Adult Mortality</th>\n",
       "      <th>infant deaths</th>\n",
       "      <th>Alcohol</th>\n",
       "      <th>percentage expenditure</th>\n",
       "      <th>Hepatitis B</th>\n",
       "      <th>Measles</th>\n",
       "      <th>BMI</th>\n",
       "      <th>...</th>\n",
       "      <th>Polio</th>\n",
       "      <th>Total expenditure</th>\n",
       "      <th>Diphtheria</th>\n",
       "      <th>HIV/AIDS</th>\n",
       "      <th>GDP</th>\n",
       "      <th>Population</th>\n",
       "      <th>thinness  1-19 years</th>\n",
       "      <th>thinness 5-9 years</th>\n",
       "      <th>Income composition of resources</th>\n",
       "      <th>Schooling</th>\n",
       "    </tr>\n",
       "    <tr>\n",
       "      <th>Country</th>\n",
       "      <th></th>\n",
       "      <th></th>\n",
       "      <th></th>\n",
       "      <th></th>\n",
       "      <th></th>\n",
       "      <th></th>\n",
       "      <th></th>\n",
       "      <th></th>\n",
       "      <th></th>\n",
       "      <th></th>\n",
       "      <th></th>\n",
       "      <th></th>\n",
       "      <th></th>\n",
       "      <th></th>\n",
       "      <th></th>\n",
       "      <th></th>\n",
       "      <th></th>\n",
       "      <th></th>\n",
       "      <th></th>\n",
       "      <th></th>\n",
       "      <th></th>\n",
       "    </tr>\n",
       "  </thead>\n",
       "  <tbody>\n",
       "    <tr>\n",
       "      <th>Afghanistan</th>\n",
       "      <td>2015</td>\n",
       "      <td>Developing</td>\n",
       "      <td>65.0</td>\n",
       "      <td>263.0</td>\n",
       "      <td>62</td>\n",
       "      <td>0.01</td>\n",
       "      <td>71.279624</td>\n",
       "      <td>65.0</td>\n",
       "      <td>1154</td>\n",
       "      <td>19.1</td>\n",
       "      <td>...</td>\n",
       "      <td>6.0</td>\n",
       "      <td>8.16</td>\n",
       "      <td>65.0</td>\n",
       "      <td>0.1</td>\n",
       "      <td>584.259210</td>\n",
       "      <td>33736494.0</td>\n",
       "      <td>17.2</td>\n",
       "      <td>17.3</td>\n",
       "      <td>0.479</td>\n",
       "      <td>10.1</td>\n",
       "    </tr>\n",
       "    <tr>\n",
       "      <th>Afghanistan</th>\n",
       "      <td>2014</td>\n",
       "      <td>Developing</td>\n",
       "      <td>59.9</td>\n",
       "      <td>271.0</td>\n",
       "      <td>64</td>\n",
       "      <td>0.01</td>\n",
       "      <td>73.523582</td>\n",
       "      <td>62.0</td>\n",
       "      <td>492</td>\n",
       "      <td>18.6</td>\n",
       "      <td>...</td>\n",
       "      <td>58.0</td>\n",
       "      <td>8.18</td>\n",
       "      <td>62.0</td>\n",
       "      <td>0.1</td>\n",
       "      <td>612.696514</td>\n",
       "      <td>327582.0</td>\n",
       "      <td>17.5</td>\n",
       "      <td>17.5</td>\n",
       "      <td>0.476</td>\n",
       "      <td>10.0</td>\n",
       "    </tr>\n",
       "    <tr>\n",
       "      <th>Afghanistan</th>\n",
       "      <td>2013</td>\n",
       "      <td>Developing</td>\n",
       "      <td>59.9</td>\n",
       "      <td>268.0</td>\n",
       "      <td>66</td>\n",
       "      <td>0.01</td>\n",
       "      <td>73.219243</td>\n",
       "      <td>64.0</td>\n",
       "      <td>430</td>\n",
       "      <td>18.1</td>\n",
       "      <td>...</td>\n",
       "      <td>62.0</td>\n",
       "      <td>8.13</td>\n",
       "      <td>64.0</td>\n",
       "      <td>0.1</td>\n",
       "      <td>631.744976</td>\n",
       "      <td>31731688.0</td>\n",
       "      <td>17.7</td>\n",
       "      <td>17.7</td>\n",
       "      <td>0.470</td>\n",
       "      <td>9.9</td>\n",
       "    </tr>\n",
       "    <tr>\n",
       "      <th>Afghanistan</th>\n",
       "      <td>2012</td>\n",
       "      <td>Developing</td>\n",
       "      <td>59.5</td>\n",
       "      <td>272.0</td>\n",
       "      <td>69</td>\n",
       "      <td>0.01</td>\n",
       "      <td>78.184215</td>\n",
       "      <td>67.0</td>\n",
       "      <td>2787</td>\n",
       "      <td>17.6</td>\n",
       "      <td>...</td>\n",
       "      <td>67.0</td>\n",
       "      <td>8.52</td>\n",
       "      <td>67.0</td>\n",
       "      <td>0.1</td>\n",
       "      <td>669.959000</td>\n",
       "      <td>3696958.0</td>\n",
       "      <td>17.9</td>\n",
       "      <td>18.0</td>\n",
       "      <td>0.463</td>\n",
       "      <td>9.8</td>\n",
       "    </tr>\n",
       "    <tr>\n",
       "      <th>Afghanistan</th>\n",
       "      <td>2011</td>\n",
       "      <td>Developing</td>\n",
       "      <td>59.2</td>\n",
       "      <td>275.0</td>\n",
       "      <td>71</td>\n",
       "      <td>0.01</td>\n",
       "      <td>7.097109</td>\n",
       "      <td>68.0</td>\n",
       "      <td>3013</td>\n",
       "      <td>17.2</td>\n",
       "      <td>...</td>\n",
       "      <td>68.0</td>\n",
       "      <td>7.87</td>\n",
       "      <td>68.0</td>\n",
       "      <td>0.1</td>\n",
       "      <td>63.537231</td>\n",
       "      <td>2978599.0</td>\n",
       "      <td>18.2</td>\n",
       "      <td>18.2</td>\n",
       "      <td>0.454</td>\n",
       "      <td>9.5</td>\n",
       "    </tr>\n",
       "  </tbody>\n",
       "</table>\n",
       "<p>5 rows × 21 columns</p>\n",
       "</div>"
      ],
      "text/plain": [
       "             Year      Status  Life expectancy   Adult Mortality  \\\n",
       "Country                                                            \n",
       "Afghanistan  2015  Developing              65.0            263.0   \n",
       "Afghanistan  2014  Developing              59.9            271.0   \n",
       "Afghanistan  2013  Developing              59.9            268.0   \n",
       "Afghanistan  2012  Developing              59.5            272.0   \n",
       "Afghanistan  2011  Developing              59.2            275.0   \n",
       "\n",
       "             infant deaths  Alcohol  percentage expenditure  Hepatitis B  \\\n",
       "Country                                                                    \n",
       "Afghanistan             62     0.01               71.279624         65.0   \n",
       "Afghanistan             64     0.01               73.523582         62.0   \n",
       "Afghanistan             66     0.01               73.219243         64.0   \n",
       "Afghanistan             69     0.01               78.184215         67.0   \n",
       "Afghanistan             71     0.01                7.097109         68.0   \n",
       "\n",
       "             Measles    BMI   ...  Polio  Total expenditure  Diphtheria   \\\n",
       "Country                       ...                                          \n",
       "Afghanistan      1154   19.1  ...    6.0               8.16         65.0   \n",
       "Afghanistan       492   18.6  ...   58.0               8.18         62.0   \n",
       "Afghanistan       430   18.1  ...   62.0               8.13         64.0   \n",
       "Afghanistan      2787   17.6  ...   67.0               8.52         67.0   \n",
       "Afghanistan      3013   17.2  ...   68.0               7.87         68.0   \n",
       "\n",
       "              HIV/AIDS         GDP  Population   thinness  1-19 years  \\\n",
       "Country                                                                 \n",
       "Afghanistan        0.1  584.259210  33736494.0                   17.2   \n",
       "Afghanistan        0.1  612.696514    327582.0                   17.5   \n",
       "Afghanistan        0.1  631.744976  31731688.0                   17.7   \n",
       "Afghanistan        0.1  669.959000   3696958.0                   17.9   \n",
       "Afghanistan        0.1   63.537231   2978599.0                   18.2   \n",
       "\n",
       "              thinness 5-9 years  Income composition of resources  Schooling  \n",
       "Country                                                                       \n",
       "Afghanistan                 17.3                            0.479       10.1  \n",
       "Afghanistan                 17.5                            0.476       10.0  \n",
       "Afghanistan                 17.7                            0.470        9.9  \n",
       "Afghanistan                 18.0                            0.463        9.8  \n",
       "Afghanistan                 18.2                            0.454        9.5  \n",
       "\n",
       "[5 rows x 21 columns]"
      ]
     },
     "execution_count": 130,
     "metadata": {},
     "output_type": "execute_result"
    }
   ],
   "source": [
    "data.head()"
   ]
  },
  {
   "cell_type": "code",
   "execution_count": 131,
   "metadata": {},
   "outputs": [
    {
     "data": {
      "text/html": [
       "<div>\n",
       "<style scoped>\n",
       "    .dataframe tbody tr th:only-of-type {\n",
       "        vertical-align: middle;\n",
       "    }\n",
       "\n",
       "    .dataframe tbody tr th {\n",
       "        vertical-align: top;\n",
       "    }\n",
       "\n",
       "    .dataframe thead th {\n",
       "        text-align: right;\n",
       "    }\n",
       "</style>\n",
       "<table border=\"1\" class=\"dataframe\">\n",
       "  <thead>\n",
       "    <tr style=\"text-align: right;\">\n",
       "      <th></th>\n",
       "      <th>Year</th>\n",
       "      <th>Status</th>\n",
       "      <th>Life expectancy</th>\n",
       "      <th>Life_exp_norm</th>\n",
       "    </tr>\n",
       "    <tr>\n",
       "      <th>Country</th>\n",
       "      <th></th>\n",
       "      <th></th>\n",
       "      <th></th>\n",
       "      <th></th>\n",
       "    </tr>\n",
       "  </thead>\n",
       "  <tbody>\n",
       "    <tr>\n",
       "      <th>Afghanistan</th>\n",
       "      <td>2015</td>\n",
       "      <td>Developing</td>\n",
       "      <td>65.0</td>\n",
       "      <td>0.544592</td>\n",
       "    </tr>\n",
       "    <tr>\n",
       "      <th>Albania</th>\n",
       "      <td>2015</td>\n",
       "      <td>Developing</td>\n",
       "      <td>77.8</td>\n",
       "      <td>0.787476</td>\n",
       "    </tr>\n",
       "    <tr>\n",
       "      <th>Algeria</th>\n",
       "      <td>2015</td>\n",
       "      <td>Developing</td>\n",
       "      <td>75.6</td>\n",
       "      <td>0.745731</td>\n",
       "    </tr>\n",
       "    <tr>\n",
       "      <th>Angola</th>\n",
       "      <td>2015</td>\n",
       "      <td>Developing</td>\n",
       "      <td>52.4</td>\n",
       "      <td>0.305503</td>\n",
       "    </tr>\n",
       "    <tr>\n",
       "      <th>Antigua and Barbuda</th>\n",
       "      <td>2015</td>\n",
       "      <td>Developing</td>\n",
       "      <td>76.4</td>\n",
       "      <td>0.760911</td>\n",
       "    </tr>\n",
       "    <tr>\n",
       "      <th>...</th>\n",
       "      <td>...</td>\n",
       "      <td>...</td>\n",
       "      <td>...</td>\n",
       "      <td>...</td>\n",
       "    </tr>\n",
       "    <tr>\n",
       "      <th>Venezuela (Bolivarian Republic of)</th>\n",
       "      <td>2015</td>\n",
       "      <td>Developing</td>\n",
       "      <td>74.1</td>\n",
       "      <td>0.717268</td>\n",
       "    </tr>\n",
       "    <tr>\n",
       "      <th>Viet Nam</th>\n",
       "      <td>2015</td>\n",
       "      <td>Developing</td>\n",
       "      <td>76.0</td>\n",
       "      <td>0.753321</td>\n",
       "    </tr>\n",
       "    <tr>\n",
       "      <th>Yemen</th>\n",
       "      <td>2015</td>\n",
       "      <td>Developing</td>\n",
       "      <td>65.7</td>\n",
       "      <td>0.557875</td>\n",
       "    </tr>\n",
       "    <tr>\n",
       "      <th>Zambia</th>\n",
       "      <td>2015</td>\n",
       "      <td>Developing</td>\n",
       "      <td>61.8</td>\n",
       "      <td>0.483871</td>\n",
       "    </tr>\n",
       "    <tr>\n",
       "      <th>Zimbabwe</th>\n",
       "      <td>2015</td>\n",
       "      <td>Developing</td>\n",
       "      <td>67.0</td>\n",
       "      <td>0.582543</td>\n",
       "    </tr>\n",
       "  </tbody>\n",
       "</table>\n",
       "<p>151 rows × 4 columns</p>\n",
       "</div>"
      ],
      "text/plain": [
       "                                    Year      Status  Life expectancy   \\\n",
       "Country                                                                  \n",
       "Afghanistan                         2015  Developing              65.0   \n",
       "Albania                             2015  Developing              77.8   \n",
       "Algeria                             2015  Developing              75.6   \n",
       "Angola                              2015  Developing              52.4   \n",
       "Antigua and Barbuda                 2015  Developing              76.4   \n",
       "...                                  ...         ...               ...   \n",
       "Venezuela (Bolivarian Republic of)  2015  Developing              74.1   \n",
       "Viet Nam                            2015  Developing              76.0   \n",
       "Yemen                               2015  Developing              65.7   \n",
       "Zambia                              2015  Developing              61.8   \n",
       "Zimbabwe                            2015  Developing              67.0   \n",
       "\n",
       "                                    Life_exp_norm  \n",
       "Country                                            \n",
       "Afghanistan                              0.544592  \n",
       "Albania                                  0.787476  \n",
       "Algeria                                  0.745731  \n",
       "Angola                                   0.305503  \n",
       "Antigua and Barbuda                      0.760911  \n",
       "...                                           ...  \n",
       "Venezuela (Bolivarian Republic of)       0.717268  \n",
       "Viet Nam                                 0.753321  \n",
       "Yemen                                    0.557875  \n",
       "Zambia                                   0.483871  \n",
       "Zimbabwe                                 0.582543  \n",
       "\n",
       "[151 rows x 4 columns]"
      ]
     },
     "execution_count": 131,
     "metadata": {},
     "output_type": "execute_result"
    }
   ],
   "source": [
    "subset=data[['Year','Status','Life expectancy ']]\n",
    "df_2015_dev=subset.loc[(subset.Year==2015) & (subset.Status=='Developing')]\n",
    "\n",
    "min__all_values_2015=subset['Life expectancy '].min()\n",
    "max__all_values_2015=subset['Life expectancy '].max()\n",
    "\n",
    "life_exp_norm_2015= (df_2015_dev['Life expectancy '] - min__all_values_2015 )/(max__all_values_2015-min__all_values_2015)\n",
    "df_2015_dev.insert(loc=3,column='Life_exp_norm',value=life_exp_norm_2015)\n",
    "df_2015_dev"
   ]
  },
  {
   "cell_type": "code",
   "execution_count": 132,
   "metadata": {},
   "outputs": [
    {
     "data": {
      "image/png": "[encoded data removed]",
      "text/plain": [
       "<Figure size 432x288 with 1 Axes>"
      ]
     },
     "metadata": {
      "needs_background": "light"
     },
     "output_type": "display_data"
    }
   ],
   "source": [
    "plt.hist(life_exp_norm_2015,bins=40)\n",
    "plt.title(\"Histogram - Life expectancy - developing countries in 2015\")\n",
    "plt.show()"
   ]
  },
  {
   "cell_type": "markdown",
   "metadata": {},
   "source": [
    "# MODELS\n",
    "There are prensented two models, first model uses the normal distributon, and the second one uses gamma distribution.\n",
    "\n",
    "At the begining, the first approach was the normal distribution. Then it was evaluated to get an overlaping or mixed distribution. However, beacuse of its complexity and as a suggestion of the professor, a gamma model was taked in account as second model. Eventhough each model migth not seem perfectly accuarate to fit with the original data, at the end it is a matter of comparing using quantified parameters.\n",
    "\n",
    "\n",
    "Each one of the choosen models are described deeply in its respective section.\n",
    "\n",
    "Also, it is shown the prior of the mixed model that can be considered in future projects.\n"
   ]
  },
  {
   "cell_type": "markdown",
   "metadata": {},
   "source": [
    "## MIXED MODEL"
   ]
  },
  {
   "cell_type": "markdown",
   "metadata": {},
   "source": [
    "This model was a second approach, but beacuse of the complexity and errors encountered when trying to a fit into the real data, and a as suggestion from the professor, it was changed to a gamma distirbution. However, it is shown in this notebook as a way of proposal for further researching projects. The model for it is in the mixed_model.stan archive."
   ]
  },
  {
   "cell_type": "code",
   "execution_count": 133,
   "metadata": {},
   "outputs": [
    {
     "name": "stderr",
     "output_type": "stream",
     "text": [
      "INFO:cmdstanpy:found newer exe file, not recompiling\n",
      "INFO:cmdstanpy:CmdStan start procesing\n",
      "chain 1 |\u001b[33m          \u001b[0m| 00:00 Status\n",
      "\u001b[A\n",
      "\n",
      "chain 1 |\u001b[34m██████████\u001b[0m| 00:00 Sampling completed\n",
      "chain 2 |\u001b[34m██████████\u001b[0m| 00:00 Sampling completed\n",
      "chain 3 |\u001b[34m██████████\u001b[0m| 00:00 Sampling completed\n",
      "chain 4 |\u001b[34m██████████\u001b[0m| 00:00 Sampling completed"
     ]
    },
    {
     "name": "stdout",
     "output_type": "stream",
     "text": [
      "                                                                                                                                                                                                                                                                                                                                "
     ]
    },
    {
     "name": "stderr",
     "output_type": "stream",
     "text": [
      "\n",
      "INFO:cmdstanpy:CmdStan done processing.\n"
     ]
    },
    {
     "name": "stdout",
     "output_type": "stream",
     "text": [
      "\n"
     ]
    },
    {
     "data": {
      "image/png": "[encoded data removed]",
      "text/plain": [
       "<Figure size 432x288 with 1 Axes>"
      ]
     },
     "metadata": {
      "needs_background": "light"
     },
     "output_type": "display_data"
    }
   ],
   "source": [
    "model_mixed=CmdStanModel(stan_file='mixed_model.stan')\n",
    "\n",
    "R = 1000\n",
    "sim_mixed=model_mixed.sample(iter_sampling=R,\n",
    "                     iter_warmup=0,\n",
    "                     chains=4,\n",
    "                     fixed_param=True,\n",
    "                     seed=29042020,refresh=R)\n",
    "\n",
    "(counts_1, bins_1) = np.histogram(life_exp_norm_2015, bins=80)\n",
    "(counts_2, bins_2) = np.histogram(sim_mixed.stan_variable('life_exp'), bins=80)\n",
    "\n",
    "plt.hist(bins_1[:-1], bins_1, weights=(1/(max(counts_1)))*counts_1)\n",
    "plt.hist(bins_2[:-1], bins_2, weights=(1/(max(counts_2)))*counts_2, histtype='step')\n",
    "\n",
    "plt.legend(labels=[\"Mixed model\",\"Real\"],loc=\"upper left\")\n",
    "plt.title(\"Mixed prior model - scaled histogram comparission\")\n",
    "plt.show()"
   ]
  },
  {
   "cell_type": "markdown",
   "metadata": {},
   "source": [
    "## MODEL 1 - Normal distirbution"
   ]
  },
  {
   "cell_type": "markdown",
   "metadata": {},
   "source": [
    "### M1 - Prior model"
   ]
  },
  {
   "cell_type": "markdown",
   "metadata": {},
   "source": [
    "This model structure is:\n",
    "\n",
    "   * mu ~ normal(0.6,0.2)\n",
    "   * sigma ~ normal(0.15,0.05)\n",
    "   * life_exp ~ normal(mu,sigma)\n",
    "\n",
    "The values were obtained manually, looking at the histogram obtained of life_exp and real data.  It was used this [online plotter](https://homepage.divms.uiowa.edu/~mbognar/applets/beta.html).\n",
    "\n",
    "Mu and sigma were modelled as normal distributions, with a standart deviation approximadelty as 30% of the mean. This perfentage was choosen so there could be a decent range for possible values when fitting the model."
   ]
  },
  {
   "cell_type": "code",
   "execution_count": 134,
   "metadata": {},
   "outputs": [
    {
     "name": "stderr",
     "output_type": "stream",
     "text": [
      "INFO:cmdstanpy:found newer exe file, not recompiling\n",
      "INFO:cmdstanpy:CmdStan start procesing\n",
      "chain 1 |\u001b[33m          \u001b[0m| 00:00 Status\n",
      "\u001b[A\n",
      "\n",
      "chain 1 |\u001b[34m██████████\u001b[0m| 00:00 Sampling completed\n",
      "chain 2 |\u001b[34m██████████\u001b[0m| 00:00 Sampling completed\n",
      "chain 3 |\u001b[34m██████████\u001b[0m| 00:00 Sampling completed\n",
      "chain 4 |\u001b[34m██████████\u001b[0m| 00:00 Sampling completed"
     ]
    },
    {
     "name": "stdout",
     "output_type": "stream",
     "text": [
      "                                                                                                                                                                                                                                                                                                                                "
     ]
    },
    {
     "name": "stderr",
     "output_type": "stream",
     "text": [
      "\n",
      "INFO:cmdstanpy:CmdStan done processing.\n"
     ]
    },
    {
     "name": "stdout",
     "output_type": "stream",
     "text": [
      "\n"
     ]
    }
   ],
   "source": [
    "model_ppc=CmdStanModel(stan_file='2015_dev_ppc_1.stan')\n",
    "\n",
    "R = 1000\n",
    "sim_1=model_ppc.sample(iter_sampling=R,\n",
    "                     iter_warmup=0,\n",
    "                     chains=4,\n",
    "                     fixed_param=True,\n",
    "                     seed=29042020,refresh=R)\n",
    "\n",
    "\n",
    "#plt.hist(sim_1.stan_variable('life_exp'), bins=80, label= \"life_exp\", histtype='step')\n",
    "#plt.legend(loc=\"upper left\")\n",
    "#plt.title(\"(model 1) Histogram - prior - Life expectancy - normal distribution\")\n",
    "#plt.show()"
   ]
  },
  {
   "cell_type": "markdown",
   "metadata": {},
   "source": [
    "### M1 - Fitting model"
   ]
  },
  {
   "cell_type": "code",
   "execution_count": 135,
   "metadata": {},
   "outputs": [
    {
     "name": "stderr",
     "output_type": "stream",
     "text": [
      "INFO:cmdstanpy:found newer exe file, not recompiling\n",
      "INFO:cmdstanpy:CmdStan start procesing\n",
      "chain 1 |\u001b[33m          \u001b[0m| 00:00 Status\n",
      "\u001b[A\n",
      "\n",
      "\u001b[A\u001b[A\n",
      "chain 1 |\u001b[34m██████▎   \u001b[0m| 00:00 Iteration: 1100 / 2000 [ 55%]  (Sampling)\n",
      "\n",
      "chain 1 |\u001b[34m██████████\u001b[0m| 00:00 Sampling completed                       \n",
      "chain 2 |\u001b[34m██████████\u001b[0m| 00:00 Sampling completed                       \n",
      "chain 3 |\u001b[34m██████████\u001b[0m| 00:00 Sampling completed                       \n",
      "chain 4 |\u001b[34m██████████\u001b[0m| 00:00 Sampling completed                       "
     ]
    },
    {
     "name": "stdout",
     "output_type": "stream",
     "text": [
      "                                                                                                                                                                                                                                                                                                                                "
     ]
    },
    {
     "name": "stderr",
     "output_type": "stream",
     "text": [
      "\n",
      "INFO:cmdstanpy:CmdStan done processing.\n"
     ]
    },
    {
     "name": "stdout",
     "output_type": "stream",
     "text": [
      "\n"
     ]
    },
    {
     "data": {
      "text/html": [
       "<div>\n",
       "<style scoped>\n",
       "    .dataframe tbody tr th:only-of-type {\n",
       "        vertical-align: middle;\n",
       "    }\n",
       "\n",
       "    .dataframe tbody tr th {\n",
       "        vertical-align: top;\n",
       "    }\n",
       "\n",
       "    .dataframe thead th {\n",
       "        text-align: right;\n",
       "    }\n",
       "</style>\n",
       "<table border=\"1\" class=\"dataframe\">\n",
       "  <thead>\n",
       "    <tr style=\"text-align: right;\">\n",
       "      <th></th>\n",
       "      <th>Mean</th>\n",
       "      <th>MCSE</th>\n",
       "      <th>StdDev</th>\n",
       "      <th>5%</th>\n",
       "      <th>50%</th>\n",
       "      <th>95%</th>\n",
       "      <th>N_Eff</th>\n",
       "      <th>N_Eff/s</th>\n",
       "      <th>R_hat</th>\n",
       "    </tr>\n",
       "    <tr>\n",
       "      <th>name</th>\n",
       "      <th></th>\n",
       "      <th></th>\n",
       "      <th></th>\n",
       "      <th></th>\n",
       "      <th></th>\n",
       "      <th></th>\n",
       "      <th></th>\n",
       "      <th></th>\n",
       "      <th></th>\n",
       "    </tr>\n",
       "  </thead>\n",
       "  <tbody>\n",
       "    <tr>\n",
       "      <th>lp__</th>\n",
       "      <td>220.00</td>\n",
       "      <td>0.02700</td>\n",
       "      <td>1.000</td>\n",
       "      <td>220.00</td>\n",
       "      <td>220.00</td>\n",
       "      <td>220.00</td>\n",
       "      <td>1500.00</td>\n",
       "      <td>840.00</td>\n",
       "      <td>1.0</td>\n",
       "    </tr>\n",
       "    <tr>\n",
       "      <th>mu</th>\n",
       "      <td>0.63</td>\n",
       "      <td>0.00021</td>\n",
       "      <td>0.012</td>\n",
       "      <td>0.62</td>\n",
       "      <td>0.63</td>\n",
       "      <td>0.65</td>\n",
       "      <td>3000.00</td>\n",
       "      <td>1700.00</td>\n",
       "      <td>1.0</td>\n",
       "    </tr>\n",
       "    <tr>\n",
       "      <th>sigma</th>\n",
       "      <td>0.14</td>\n",
       "      <td>0.00015</td>\n",
       "      <td>0.008</td>\n",
       "      <td>0.13</td>\n",
       "      <td>0.14</td>\n",
       "      <td>0.16</td>\n",
       "      <td>3000.00</td>\n",
       "      <td>1700.00</td>\n",
       "      <td>1.0</td>\n",
       "    </tr>\n",
       "    <tr>\n",
       "      <th>log_lik[1]</th>\n",
       "      <td>0.82</td>\n",
       "      <td>0.00140</td>\n",
       "      <td>0.083</td>\n",
       "      <td>0.72</td>\n",
       "      <td>0.83</td>\n",
       "      <td>0.92</td>\n",
       "      <td>3434.00</td>\n",
       "      <td>1894.00</td>\n",
       "      <td>1.0</td>\n",
       "    </tr>\n",
       "    <tr>\n",
       "      <th>log_lik[2]</th>\n",
       "      <td>0.44</td>\n",
       "      <td>0.00160</td>\n",
       "      <td>0.092</td>\n",
       "      <td>0.29</td>\n",
       "      <td>0.44</td>\n",
       "      <td>0.58</td>\n",
       "      <td>3180.00</td>\n",
       "      <td>1754.00</td>\n",
       "      <td>1.0</td>\n",
       "    </tr>\n",
       "    <tr>\n",
       "      <th>...</th>\n",
       "      <td>...</td>\n",
       "      <td>...</td>\n",
       "      <td>...</td>\n",
       "      <td>...</td>\n",
       "      <td>...</td>\n",
       "      <td>...</td>\n",
       "      <td>...</td>\n",
       "      <td>...</td>\n",
       "      <td>...</td>\n",
       "    </tr>\n",
       "    <tr>\n",
       "      <th>life_exp_generated[148]</th>\n",
       "      <td>0.63</td>\n",
       "      <td>0.00250</td>\n",
       "      <td>0.150</td>\n",
       "      <td>0.39</td>\n",
       "      <td>0.63</td>\n",
       "      <td>0.87</td>\n",
       "      <td>3632.00</td>\n",
       "      <td>2003.00</td>\n",
       "      <td>1.0</td>\n",
       "    </tr>\n",
       "    <tr>\n",
       "      <th>life_exp_generated[149]</th>\n",
       "      <td>0.63</td>\n",
       "      <td>0.00240</td>\n",
       "      <td>0.150</td>\n",
       "      <td>0.39</td>\n",
       "      <td>0.63</td>\n",
       "      <td>0.87</td>\n",
       "      <td>3889.00</td>\n",
       "      <td>2145.00</td>\n",
       "      <td>1.0</td>\n",
       "    </tr>\n",
       "    <tr>\n",
       "      <th>life_exp_generated[150]</th>\n",
       "      <td>0.63</td>\n",
       "      <td>0.00240</td>\n",
       "      <td>0.150</td>\n",
       "      <td>0.39</td>\n",
       "      <td>0.64</td>\n",
       "      <td>0.88</td>\n",
       "      <td>4127.00</td>\n",
       "      <td>2276.00</td>\n",
       "      <td>1.0</td>\n",
       "    </tr>\n",
       "    <tr>\n",
       "      <th>life_exp_generated[151]</th>\n",
       "      <td>0.63</td>\n",
       "      <td>0.00250</td>\n",
       "      <td>0.150</td>\n",
       "      <td>0.39</td>\n",
       "      <td>0.64</td>\n",
       "      <td>0.87</td>\n",
       "      <td>3531.00</td>\n",
       "      <td>1948.00</td>\n",
       "      <td>1.0</td>\n",
       "    </tr>\n",
       "    <tr>\n",
       "      <th>life_exp_generated_v2</th>\n",
       "      <td>0.63</td>\n",
       "      <td>0.00000</td>\n",
       "      <td>0.140</td>\n",
       "      <td>0.39</td>\n",
       "      <td>0.63</td>\n",
       "      <td>0.86</td>\n",
       "      <td>3989.92</td>\n",
       "      <td>2200.73</td>\n",
       "      <td>1.0</td>\n",
       "    </tr>\n",
       "  </tbody>\n",
       "</table>\n",
       "<p>306 rows × 9 columns</p>\n",
       "</div>"
      ],
      "text/plain": [
       "                           Mean     MCSE  StdDev      5%     50%     95%  \\\n",
       "name                                                                       \n",
       "lp__                     220.00  0.02700   1.000  220.00  220.00  220.00   \n",
       "mu                         0.63  0.00021   0.012    0.62    0.63    0.65   \n",
       "sigma                      0.14  0.00015   0.008    0.13    0.14    0.16   \n",
       "log_lik[1]                 0.82  0.00140   0.083    0.72    0.83    0.92   \n",
       "log_lik[2]                 0.44  0.00160   0.092    0.29    0.44    0.58   \n",
       "...                         ...      ...     ...     ...     ...     ...   \n",
       "life_exp_generated[148]    0.63  0.00250   0.150    0.39    0.63    0.87   \n",
       "life_exp_generated[149]    0.63  0.00240   0.150    0.39    0.63    0.87   \n",
       "life_exp_generated[150]    0.63  0.00240   0.150    0.39    0.64    0.88   \n",
       "life_exp_generated[151]    0.63  0.00250   0.150    0.39    0.64    0.87   \n",
       "life_exp_generated_v2      0.63  0.00000   0.140    0.39    0.63    0.86   \n",
       "\n",
       "                           N_Eff  N_Eff/s  R_hat  \n",
       "name                                              \n",
       "lp__                     1500.00   840.00    1.0  \n",
       "mu                       3000.00  1700.00    1.0  \n",
       "sigma                    3000.00  1700.00    1.0  \n",
       "log_lik[1]               3434.00  1894.00    1.0  \n",
       "log_lik[2]               3180.00  1754.00    1.0  \n",
       "...                          ...      ...    ...  \n",
       "life_exp_generated[148]  3632.00  2003.00    1.0  \n",
       "life_exp_generated[149]  3889.00  2145.00    1.0  \n",
       "life_exp_generated[150]  4127.00  2276.00    1.0  \n",
       "life_exp_generated[151]  3531.00  1948.00    1.0  \n",
       "life_exp_generated_v2    3989.92  2200.73    1.0  \n",
       "\n",
       "[306 rows x 9 columns]"
      ]
     },
     "execution_count": 135,
     "metadata": {},
     "output_type": "execute_result"
    }
   ],
   "source": [
    "data_to_fit=dict(N=len(life_exp_norm_2015),life_exps=life_exp_norm_2015)\n",
    "\n",
    "model_1_fit=CmdStanModel(stan_file='2015_dev_fit_1.stan')\n",
    "fit_model_1=model_1_fit.sample(data=data_to_fit,seed=28052020)\n",
    "fit_model_1.summary()"
   ]
  },
  {
   "cell_type": "code",
   "execution_count": 136,
   "metadata": {},
   "outputs": [],
   "source": [
    "#plt.hist(fit_model_1.stan_variable('life_exp_generated_v2'), bins=80, label= \"life_exp\", histtype='step')\n",
    "#plt.legend(loc=\"upper left\")\n",
    "#plt.title(\"(model 1) Histogram - post prediction - Life expectancy - normal distribution\")\n",
    "#plt.show()"
   ]
  },
  {
   "cell_type": "markdown",
   "metadata": {},
   "source": [
    "### M1 - Normalized histograms"
   ]
  },
  {
   "cell_type": "markdown",
   "metadata": {},
   "source": [
    "In this section, there is plotted normalized hitograms of the prior, the posterior predictive and the real data. It can be observed how the prior is not that much accuarate in comparison to the posterior fitted model. It is \"fitted\". However, this doesn't show a quantified parameter that can help to decide which model fits better. For this reason, it is used WAIC and LOO critreria for finding a the most accuarate model."
   ]
  },
  {
   "cell_type": "code",
   "execution_count": 137,
   "metadata": {},
   "outputs": [
    {
     "data": {
      "image/png": "[encoded data removed]",
      "text/plain": [
       "<Figure size 432x288 with 1 Axes>"
      ]
     },
     "metadata": {
      "needs_background": "light"
     },
     "output_type": "display_data"
    }
   ],
   "source": [
    "(counts_1, bins_1) = np.histogram(life_exp_norm_2015, bins=80)\n",
    "(counts_2, bins_2) = np.histogram(sim_1.stan_variable('life_exp'), bins=80)\n",
    "(counts_3, bins_3) = np.histogram(fit_model_1.stan_variable('life_exp_generated_v2'), bins=80)\n",
    "\n",
    "plt.hist(bins_1[:-1], bins_1, weights=(2/(max(counts_1)))*counts_1)\n",
    "plt.hist(bins_2[:-1], bins_2, weights=(1/(max(counts_2)))*counts_2, histtype='step')\n",
    "plt.hist(bins_3[:-1], bins_3, weights=(1/(max(counts_3)))*counts_3, histtype='step')\n",
    "\n",
    "plt.legend(labels=[\"Prior\",\"Posterior predective\",\"Real\"],loc=\"upper left\")\n",
    "plt.title(\"Model 1 - scaled histogram comparissions\")\n",
    "plt.show()"
   ]
  },
  {
   "cell_type": "markdown",
   "metadata": {},
   "source": [
    "## MODEL 2 - GAMMA Distribution"
   ]
  },
  {
   "cell_type": "markdown",
   "metadata": {},
   "source": [
    "### M2 - Prior model"
   ]
  },
  {
   "cell_type": "markdown",
   "metadata": {},
   "source": [
    "This model structure is:\n",
    "\n",
    "\n",
    "   * alpha ~ normal (9, 2)\n",
    "   * beta ~ normal (0.07, 0.02)\n",
    "   * life_exp ~ gamma (alpha, beta)\n",
    "\n",
    "The values were obtained manually, looking at the histogram obtained of life_exp and real data. It was used this [online plotter](https://homepage.divms.uiowa.edu/~mbognar/applets/gamma.html)\n",
    "\n",
    "Alpha and beta were modelled as normal distributions, with a standart deviation approximadelty as 25% of the mean. This perfentage was choosen so there could be a decent range for possible values when fitting the model.\n",
    "This statistical distribution was chosen beacuse the curve is different to the normal distribution and in a simple graphic comparison, the original data has also a similarity in its histogram curves with gamma distribution."
   ]
  },
  {
   "cell_type": "code",
   "execution_count": 138,
   "metadata": {},
   "outputs": [
    {
     "name": "stderr",
     "output_type": "stream",
     "text": [
      "INFO:cmdstanpy:found newer exe file, not recompiling\n",
      "INFO:cmdstanpy:CmdStan start procesing\n",
      "chain 1 |\u001b[33m          \u001b[0m| 00:00 Status\n",
      "\u001b[A\n",
      "\n",
      "chain 1 |\u001b[34m██████████\u001b[0m| 00:00 Sampling completed\n",
      "chain 2 |\u001b[34m██████████\u001b[0m| 00:00 Sampling completed\n",
      "chain 3 |\u001b[34m██████████\u001b[0m| 00:00 Sampling completed\n",
      "chain 4 |\u001b[34m██████████\u001b[0m| 00:00 Sampling completed"
     ]
    },
    {
     "name": "stdout",
     "output_type": "stream",
     "text": [
      "                                                                                                                                                                                                                                                                                                                                "
     ]
    },
    {
     "name": "stderr",
     "output_type": "stream",
     "text": [
      "\n",
      "INFO:cmdstanpy:CmdStan done processing.\n"
     ]
    },
    {
     "name": "stdout",
     "output_type": "stream",
     "text": [
      "\n"
     ]
    }
   ],
   "source": [
    "model_ppc_2=CmdStanModel(stan_file='2015_dev_ppc_2.stan')\n",
    "\n",
    "R = 4000\n",
    "sim_2=model_ppc_2.sample(iter_sampling=R,\n",
    "                     iter_warmup=0,\n",
    "                     chains=4,\n",
    "                     fixed_param=True,\n",
    "                     seed=29042020,refresh=R)\n",
    "\n",
    "\n",
    "#plt.hist(sim_2.stan_variable('life_exp'), bins=160, label= \"life_exp\", histtype='step')\n",
    "#plt.legend(loc=\"upper left\")\n",
    "#plt.title(\"(model 2)Histogram - prior - Life expectancy - gamma distribution\")\n",
    "#plt.show()"
   ]
  },
  {
   "cell_type": "markdown",
   "metadata": {},
   "source": [
    "### M2 - Fitting model"
   ]
  },
  {
   "cell_type": "code",
   "execution_count": 139,
   "metadata": {},
   "outputs": [
    {
     "name": "stderr",
     "output_type": "stream",
     "text": [
      "INFO:cmdstanpy:found newer exe file, not recompiling\n",
      "INFO:cmdstanpy:CmdStan start procesing\n",
      "chain 1 |\u001b[33m          \u001b[0m| 00:00 Status\n",
      "\u001b[A\n",
      "\n",
      "chain 1 |\u001b[33m██▎       \u001b[0m| 00:00 Iteration:  300 / 2000 [ 15%]  (Warmup)\n",
      "\n",
      "\u001b[A\u001b[A\n",
      "\u001b[A\n",
      "chain 1 |\u001b[34m█████▉    \u001b[0m| 00:00 Iteration: 1001 / 2000 [ 50%]  (Sampling)\n",
      "\n",
      "chain 1 |\u001b[34m████████▋ \u001b[0m| 00:00 Iteration: 1600 / 2000 [ 80%]  (Sampling)\n",
      "\u001b[A\n",
      "\n",
      "chain 1 |\u001b[34m██████████\u001b[0m| 00:00 Sampling completed                       \n",
      "chain 2 |\u001b[34m██████████\u001b[0m| 00:00 Sampling completed                       \n",
      "chain 3 |\u001b[34m██████████\u001b[0m| 00:00 Sampling completed                       \n",
      "chain 4 |\u001b[34m██████████\u001b[0m| 00:00 Sampling completed                       "
     ]
    },
    {
     "name": "stdout",
     "output_type": "stream",
     "text": [
      "                                                                                                                                                                                                                                                                                                                                "
     ]
    },
    {
     "name": "stderr",
     "output_type": "stream",
     "text": [
      "\n",
      "INFO:cmdstanpy:CmdStan done processing.\n"
     ]
    },
    {
     "name": "stdout",
     "output_type": "stream",
     "text": [
      "\n"
     ]
    }
   ],
   "source": [
    "data_to_fit=dict(N=len(life_exp_norm_2015),life_exps=life_exp_norm_2015)\n",
    "\n",
    "model_2_fit=CmdStanModel(stan_file='2015_dev_fit_2.stan')\n",
    "fit_model_2=model_2_fit.sample(data=data_to_fit,seed=28052020)"
   ]
  },
  {
   "cell_type": "code",
   "execution_count": 140,
   "metadata": {},
   "outputs": [
    {
     "data": {
      "text/html": [
       "<div>\n",
       "<style scoped>\n",
       "    .dataframe tbody tr th:only-of-type {\n",
       "        vertical-align: middle;\n",
       "    }\n",
       "\n",
       "    .dataframe tbody tr th {\n",
       "        vertical-align: top;\n",
       "    }\n",
       "\n",
       "    .dataframe thead th {\n",
       "        text-align: right;\n",
       "    }\n",
       "</style>\n",
       "<table border=\"1\" class=\"dataframe\">\n",
       "  <thead>\n",
       "    <tr style=\"text-align: right;\">\n",
       "      <th></th>\n",
       "      <th>Mean</th>\n",
       "      <th>MCSE</th>\n",
       "      <th>StdDev</th>\n",
       "      <th>5%</th>\n",
       "      <th>50%</th>\n",
       "      <th>95%</th>\n",
       "      <th>N_Eff</th>\n",
       "      <th>N_Eff/s</th>\n",
       "      <th>R_hat</th>\n",
       "    </tr>\n",
       "    <tr>\n",
       "      <th>name</th>\n",
       "      <th></th>\n",
       "      <th></th>\n",
       "      <th></th>\n",
       "      <th></th>\n",
       "      <th></th>\n",
       "      <th></th>\n",
       "      <th></th>\n",
       "      <th></th>\n",
       "      <th></th>\n",
       "    </tr>\n",
       "  </thead>\n",
       "  <tbody>\n",
       "    <tr>\n",
       "      <th>lp__</th>\n",
       "      <td>64.000</td>\n",
       "      <td>0.02800</td>\n",
       "      <td>0.9600</td>\n",
       "      <td>62.000</td>\n",
       "      <td>64.000</td>\n",
       "      <td>65.000</td>\n",
       "      <td>1200.00</td>\n",
       "      <td>450.00</td>\n",
       "      <td>1.0</td>\n",
       "    </tr>\n",
       "    <tr>\n",
       "      <th>alpha</th>\n",
       "      <td>13.000</td>\n",
       "      <td>0.04200</td>\n",
       "      <td>1.2000</td>\n",
       "      <td>11.000</td>\n",
       "      <td>13.000</td>\n",
       "      <td>15.000</td>\n",
       "      <td>750.00</td>\n",
       "      <td>290.00</td>\n",
       "      <td>1.0</td>\n",
       "    </tr>\n",
       "    <tr>\n",
       "      <th>beta</th>\n",
       "      <td>0.048</td>\n",
       "      <td>0.00016</td>\n",
       "      <td>0.0043</td>\n",
       "      <td>0.041</td>\n",
       "      <td>0.048</td>\n",
       "      <td>0.055</td>\n",
       "      <td>730.00</td>\n",
       "      <td>280.00</td>\n",
       "      <td>1.0</td>\n",
       "    </tr>\n",
       "    <tr>\n",
       "      <th>log_lik[1]</th>\n",
       "      <td>0.820</td>\n",
       "      <td>0.00160</td>\n",
       "      <td>0.0520</td>\n",
       "      <td>0.740</td>\n",
       "      <td>0.830</td>\n",
       "      <td>0.910</td>\n",
       "      <td>1029.00</td>\n",
       "      <td>397.00</td>\n",
       "      <td>1.0</td>\n",
       "    </tr>\n",
       "    <tr>\n",
       "      <th>log_lik[2]</th>\n",
       "      <td>0.270</td>\n",
       "      <td>0.00120</td>\n",
       "      <td>0.0730</td>\n",
       "      <td>0.140</td>\n",
       "      <td>0.270</td>\n",
       "      <td>0.390</td>\n",
       "      <td>3676.00</td>\n",
       "      <td>1418.00</td>\n",
       "      <td>1.0</td>\n",
       "    </tr>\n",
       "    <tr>\n",
       "      <th>...</th>\n",
       "      <td>...</td>\n",
       "      <td>...</td>\n",
       "      <td>...</td>\n",
       "      <td>...</td>\n",
       "      <td>...</td>\n",
       "      <td>...</td>\n",
       "      <td>...</td>\n",
       "      <td>...</td>\n",
       "      <td>...</td>\n",
       "    </tr>\n",
       "    <tr>\n",
       "      <th>life_exp_generated[148]</th>\n",
       "      <td>0.630</td>\n",
       "      <td>0.00290</td>\n",
       "      <td>0.1800</td>\n",
       "      <td>0.380</td>\n",
       "      <td>0.620</td>\n",
       "      <td>0.950</td>\n",
       "      <td>3927.00</td>\n",
       "      <td>1515.00</td>\n",
       "      <td>1.0</td>\n",
       "    </tr>\n",
       "    <tr>\n",
       "      <th>life_exp_generated[149]</th>\n",
       "      <td>0.630</td>\n",
       "      <td>0.00290</td>\n",
       "      <td>0.1700</td>\n",
       "      <td>0.370</td>\n",
       "      <td>0.610</td>\n",
       "      <td>0.940</td>\n",
       "      <td>3645.00</td>\n",
       "      <td>1406.00</td>\n",
       "      <td>1.0</td>\n",
       "    </tr>\n",
       "    <tr>\n",
       "      <th>life_exp_generated[150]</th>\n",
       "      <td>0.630</td>\n",
       "      <td>0.00280</td>\n",
       "      <td>0.1800</td>\n",
       "      <td>0.370</td>\n",
       "      <td>0.620</td>\n",
       "      <td>0.950</td>\n",
       "      <td>4016.00</td>\n",
       "      <td>1549.00</td>\n",
       "      <td>1.0</td>\n",
       "    </tr>\n",
       "    <tr>\n",
       "      <th>life_exp_generated[151]</th>\n",
       "      <td>0.630</td>\n",
       "      <td>0.00270</td>\n",
       "      <td>0.1700</td>\n",
       "      <td>0.380</td>\n",
       "      <td>0.620</td>\n",
       "      <td>0.940</td>\n",
       "      <td>4056.00</td>\n",
       "      <td>1565.00</td>\n",
       "      <td>1.0</td>\n",
       "    </tr>\n",
       "    <tr>\n",
       "      <th>life_exp_generated_v2</th>\n",
       "      <td>0.640</td>\n",
       "      <td>0.00000</td>\n",
       "      <td>0.1800</td>\n",
       "      <td>0.380</td>\n",
       "      <td>0.620</td>\n",
       "      <td>0.960</td>\n",
       "      <td>3938.32</td>\n",
       "      <td>1519.42</td>\n",
       "      <td>1.0</td>\n",
       "    </tr>\n",
       "  </tbody>\n",
       "</table>\n",
       "<p>306 rows × 9 columns</p>\n",
       "</div>"
      ],
      "text/plain": [
       "                           Mean     MCSE  StdDev      5%     50%     95%  \\\n",
       "name                                                                       \n",
       "lp__                     64.000  0.02800  0.9600  62.000  64.000  65.000   \n",
       "alpha                    13.000  0.04200  1.2000  11.000  13.000  15.000   \n",
       "beta                      0.048  0.00016  0.0043   0.041   0.048   0.055   \n",
       "log_lik[1]                0.820  0.00160  0.0520   0.740   0.830   0.910   \n",
       "log_lik[2]                0.270  0.00120  0.0730   0.140   0.270   0.390   \n",
       "...                         ...      ...     ...     ...     ...     ...   \n",
       "life_exp_generated[148]   0.630  0.00290  0.1800   0.380   0.620   0.950   \n",
       "life_exp_generated[149]   0.630  0.00290  0.1700   0.370   0.610   0.940   \n",
       "life_exp_generated[150]   0.630  0.00280  0.1800   0.370   0.620   0.950   \n",
       "life_exp_generated[151]   0.630  0.00270  0.1700   0.380   0.620   0.940   \n",
       "life_exp_generated_v2     0.640  0.00000  0.1800   0.380   0.620   0.960   \n",
       "\n",
       "                           N_Eff  N_Eff/s  R_hat  \n",
       "name                                              \n",
       "lp__                     1200.00   450.00    1.0  \n",
       "alpha                     750.00   290.00    1.0  \n",
       "beta                      730.00   280.00    1.0  \n",
       "log_lik[1]               1029.00   397.00    1.0  \n",
       "log_lik[2]               3676.00  1418.00    1.0  \n",
       "...                          ...      ...    ...  \n",
       "life_exp_generated[148]  3927.00  1515.00    1.0  \n",
       "life_exp_generated[149]  3645.00  1406.00    1.0  \n",
       "life_exp_generated[150]  4016.00  1549.00    1.0  \n",
       "life_exp_generated[151]  4056.00  1565.00    1.0  \n",
       "life_exp_generated_v2    3938.32  1519.42    1.0  \n",
       "\n",
       "[306 rows x 9 columns]"
      ]
     },
     "execution_count": 140,
     "metadata": {},
     "output_type": "execute_result"
    }
   ],
   "source": [
    "fit_model_2.summary()"
   ]
  },
  {
   "cell_type": "code",
   "execution_count": 141,
   "metadata": {},
   "outputs": [],
   "source": [
    "median_generated_model_2=np.percentile(fit_model_2.stan_variable('life_exp_generated')[:,:],50,axis=0)\n",
    "\n",
    "#plt.hist(fit_model_2.stan_variable('life_exp_generated_v2'), bins=80, label= \"life_exp\", histtype='step')\n",
    "#plt.legend(loc=\"upper left\")\n",
    "#plt.title(\"(model 2)Histogram - post prediction - Life expectancy - normal distribution\")\n",
    "#plt.show()"
   ]
  },
  {
   "cell_type": "markdown",
   "metadata": {},
   "source": [
    "### M2 - Normalized histograms"
   ]
  },
  {
   "cell_type": "markdown",
   "metadata": {},
   "source": [
    "In this section, there is plotted normalized hitograms of the prior, the posterior predictive and the real data. It can be observed how the prior is not that much accuarate in comparison to the posterior fitted model. It is \"fitted\".However, this doesn't show a quantified parameter that can help to decide which model fits better. For this reason, it is used WAIC and LOO critreria for finding a the most accuarate model."
   ]
  },
  {
   "cell_type": "code",
   "execution_count": 142,
   "metadata": {},
   "outputs": [
    {
     "data": {
      "image/png": "[encoded data removed]",
      "text/plain": [
       "<Figure size 432x288 with 1 Axes>"
      ]
     },
     "metadata": {
      "needs_background": "light"
     },
     "output_type": "display_data"
    }
   ],
   "source": [
    "(counts_1, bins_1) = np.histogram(life_exp_norm_2015, bins=80)\n",
    "(counts_2, bins_2) = np.histogram(sim_2.stan_variable('life_exp'), bins=80)\n",
    "(counts_3, bins_3) = np.histogram(fit_model_2.stan_variable('life_exp_generated_v2'), bins=80)\n",
    "\n",
    "plt.hist(bins_1[:-1], bins_1, weights=(2/(max(counts_1)))*counts_1)\n",
    "plt.hist(bins_2[:-1], bins_2, weights=(1/(max(counts_2)))*counts_2, histtype='step')\n",
    "plt.hist(bins_3[:-1], bins_3, weights=(1/(max(counts_3)))*counts_3, histtype='step')\n",
    "\n",
    "plt.legend(labels=[\"Prior\",\"Posterior predective\",\"Real\"],loc=\"upper left\")\n",
    "plt.title(\"Model 2 - scaled histogram comparissions\")\n",
    "plt.show()"
   ]
  },
  {
   "cell_type": "markdown",
   "metadata": {},
   "source": [
    "# COMPARISSON - WAIC and LOO"
   ]
  },
  {
   "cell_type": "code",
   "execution_count": 143,
   "metadata": {},
   "outputs": [],
   "source": [
    "results = {'result_model_1': fit_model_1,'result_model_2': fit_model_2}"
   ]
  },
  {
   "cell_type": "markdown",
   "metadata": {},
   "source": [
    "### WAIC"
   ]
  },
  {
   "cell_type": "markdown",
   "metadata": {},
   "source": [
    "In the comparison graph it can be observed that the model 1 has a  higher WAIC, thus it can be considered as better in comparison to model 2. However, the overlaping can not ignored at all. Also, model 1 has a bigger standar deviation."
   ]
  },
  {
   "cell_type": "code",
   "execution_count": 144,
   "metadata": {},
   "outputs": [
    {
     "data": {
      "text/html": [
       "<div>\n",
       "<style scoped>\n",
       "    .dataframe tbody tr th:only-of-type {\n",
       "        vertical-align: middle;\n",
       "    }\n",
       "\n",
       "    .dataframe tbody tr th {\n",
       "        vertical-align: top;\n",
       "    }\n",
       "\n",
       "    .dataframe thead th {\n",
       "        text-align: right;\n",
       "    }\n",
       "</style>\n",
       "<table border=\"1\" class=\"dataframe\">\n",
       "  <thead>\n",
       "    <tr style=\"text-align: right;\">\n",
       "      <th></th>\n",
       "      <th>rank</th>\n",
       "      <th>waic</th>\n",
       "      <th>p_waic</th>\n",
       "      <th>d_waic</th>\n",
       "      <th>weight</th>\n",
       "      <th>se</th>\n",
       "      <th>dse</th>\n",
       "      <th>warning</th>\n",
       "      <th>waic_scale</th>\n",
       "    </tr>\n",
       "  </thead>\n",
       "  <tbody>\n",
       "    <tr>\n",
       "      <th>result_model_1</th>\n",
       "      <td>0</td>\n",
       "      <td>78.245564</td>\n",
       "      <td>2.120469</td>\n",
       "      <td>0.000000</td>\n",
       "      <td>1.000000e+00</td>\n",
       "      <td>7.464507</td>\n",
       "      <td>0.000000</td>\n",
       "      <td>False</td>\n",
       "      <td>log</td>\n",
       "    </tr>\n",
       "    <tr>\n",
       "      <th>result_model_2</th>\n",
       "      <td>1</td>\n",
       "      <td>69.275177</td>\n",
       "      <td>1.089976</td>\n",
       "      <td>8.970386</td>\n",
       "      <td>1.474376e-13</td>\n",
       "      <td>5.717428</td>\n",
       "      <td>2.622727</td>\n",
       "      <td>False</td>\n",
       "      <td>log</td>\n",
       "    </tr>\n",
       "  </tbody>\n",
       "</table>\n",
       "</div>"
      ],
      "text/plain": [
       "                rank       waic    p_waic    d_waic        weight        se  \\\n",
       "result_model_1     0  78.245564  2.120469  0.000000  1.000000e+00  7.464507   \n",
       "result_model_2     1  69.275177  1.089976  8.970386  1.474376e-13  5.717428   \n",
       "\n",
       "                     dse  warning waic_scale  \n",
       "result_model_1  0.000000    False        log  \n",
       "result_model_2  2.622727    False        log  "
      ]
     },
     "execution_count": 144,
     "metadata": {},
     "output_type": "execute_result"
    },
    {
     "data": {
      "image/png": "[encoded data removed]",
      "text/plain": [
       "<Figure size 432x144 with 1 Axes>"
      ]
     },
     "metadata": {
      "needs_background": "light"
     },
     "output_type": "display_data"
    }
   ],
   "source": [
    "comparisson_waic_1 = az.compare(results, ic = 'waic')\n",
    "az.plot_compare(comparisson_waic_1)\n",
    "comparisson_waic_1"
   ]
  },
  {
   "cell_type": "markdown",
   "metadata": {},
   "source": [
    "In the comparison graph it can be observed that the model 1 has a  higher LOO, thus it can be considered as better in comparison to model 2. Pretty similar results as WAIC."
   ]
  },
  {
   "cell_type": "code",
   "execution_count": 145,
   "metadata": {},
   "outputs": [
    {
     "name": "stderr",
     "output_type": "stream",
     "text": [
      "c:\\ProgramData\\Anaconda3\\lib\\site-packages\\arviz\\stats\\stats.py:811: UserWarning: Estimated shape parameter of Pareto distribution is greater than 0.7 for one or more samples. You should consider using a more robust model, this is because importance sampling is less likely to work well if the marginal posterior and LOO posterior are very different. This is more likely to happen with a non-robust model and highly influential observations.\n",
      "  warnings.warn(\n"
     ]
    },
    {
     "data": {
      "text/html": [
       "<div>\n",
       "<style scoped>\n",
       "    .dataframe tbody tr th:only-of-type {\n",
       "        vertical-align: middle;\n",
       "    }\n",
       "\n",
       "    .dataframe tbody tr th {\n",
       "        vertical-align: top;\n",
       "    }\n",
       "\n",
       "    .dataframe thead th {\n",
       "        text-align: right;\n",
       "    }\n",
       "</style>\n",
       "<table border=\"1\" class=\"dataframe\">\n",
       "  <thead>\n",
       "    <tr style=\"text-align: right;\">\n",
       "      <th></th>\n",
       "      <th>rank</th>\n",
       "      <th>loo</th>\n",
       "      <th>p_loo</th>\n",
       "      <th>d_loo</th>\n",
       "      <th>weight</th>\n",
       "      <th>se</th>\n",
       "      <th>dse</th>\n",
       "      <th>warning</th>\n",
       "      <th>loo_scale</th>\n",
       "    </tr>\n",
       "  </thead>\n",
       "  <tbody>\n",
       "    <tr>\n",
       "      <th>result_model_1</th>\n",
       "      <td>0</td>\n",
       "      <td>78.368545</td>\n",
       "      <td>1.997488</td>\n",
       "      <td>0.000000</td>\n",
       "      <td>1.0</td>\n",
       "      <td>7.476411</td>\n",
       "      <td>0.000000</td>\n",
       "      <td>True</td>\n",
       "      <td>log</td>\n",
       "    </tr>\n",
       "    <tr>\n",
       "      <th>result_model_2</th>\n",
       "      <td>1</td>\n",
       "      <td>69.275029</td>\n",
       "      <td>1.090124</td>\n",
       "      <td>9.093516</td>\n",
       "      <td>0.0</td>\n",
       "      <td>5.717463</td>\n",
       "      <td>2.630865</td>\n",
       "      <td>False</td>\n",
       "      <td>log</td>\n",
       "    </tr>\n",
       "  </tbody>\n",
       "</table>\n",
       "</div>"
      ],
      "text/plain": [
       "                rank        loo     p_loo     d_loo  weight        se  \\\n",
       "result_model_1     0  78.368545  1.997488  0.000000     1.0  7.476411   \n",
       "result_model_2     1  69.275029  1.090124  9.093516     0.0  5.717463   \n",
       "\n",
       "                     dse  warning loo_scale  \n",
       "result_model_1  0.000000     True       log  \n",
       "result_model_2  2.630865    False       log  "
      ]
     },
     "execution_count": 145,
     "metadata": {},
     "output_type": "execute_result"
    },
    {
     "data": {
      "image/png": "[encoded data removed]",
      "text/plain": [
       "<Figure size 432x144 with 1 Axes>"
      ]
     },
     "metadata": {
      "needs_background": "light"
     },
     "output_type": "display_data"
    }
   ],
   "source": [
    "comparisson_loo_1 = az.compare(results, ic = 'loo')\n",
    "az.plot_compare(comparisson_loo_1)\n",
    "comparisson_loo_1"
   ]
  },
  {
   "cell_type": "markdown",
   "metadata": {},
   "source": [
    "# Conclusions\n",
    "\n",
    "* A normal distribution is more suitable than a gamma distribution for modelling the life expectancy in developing countries in 2015.\n",
    "* A mixed distribution can be considered for future research projects for life expectancy modelling.\n",
    "* A prior model does not necesarilly has to be pretty similar to the original data.\n",
    "* Quantity criteria is required for comparing performance of models. However, it is not totally accuarate as it also has standat deviation and overlaping."
   ]
  }
 ],
 "metadata": {
  "kernelspec": {
   "display_name": "Python 3.9.12 ('base')",
   "language": "python",
   "name": "python3"
  },
  "language_info": {
   "codemirror_mode": {
    "name": "ipython",
    "version": 3
   },
   "file_extension": ".py",
   "mimetype": "text/x-python",
   "name": "python",
   "nbconvert_exporter": "python",
   "pygments_lexer": "ipython3",
   "version": "3.9.12"
  },
  "orig_nbformat": 4,
  "vscode": {
   "interpreter": {
    "hash": "ad2bdc8ecc057115af97d19610ffacc2b4e99fae6737bb82f5d7fb13d2f2c186"
   }
  }
 },
 "nbformat": 4,
 "nbformat_minor": 2
}
