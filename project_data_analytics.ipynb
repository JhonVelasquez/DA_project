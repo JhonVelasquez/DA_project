{
 "cells": [
  {
   "cell_type": "code",
   "execution_count": 58,
   "metadata": {},
   "outputs": [],
   "source": [
    "from cmdstanpy import CmdStanModel\n",
    "\n",
    "import arviz as az\n",
    "import numpy as np\n",
    "import scipy.stats as stats\n",
    "\n",
    "import pandas as pd\n",
    "\n",
    "import matplotlib.pyplot as plt\n",
    "import matplotlib as mpl"
   ]
  },
  {
   "cell_type": "markdown",
   "metadata": {},
   "source": [
    "REAL DATA"
   ]
  },
  {
   "cell_type": "code",
   "execution_count": null,
   "metadata": {},
   "outputs": [],
   "source": [
    "data = pd.read_csv('./Life_Expectancy_Data.csv',index_col=0)\n",
    "#data.describe()"
   ]
  },
  {
   "cell_type": "code",
   "execution_count": null,
   "metadata": {},
   "outputs": [],
   "source": [
    "data.head()"
   ]
  },
  {
   "cell_type": "code",
   "execution_count": null,
   "metadata": {},
   "outputs": [],
   "source": [
    "subset=data[['Year','Status','Life expectancy ']]\n",
    "df_2014_dev=subset.loc[(subset.Year==2014) & (subset.Status=='Developing')]\n",
    "\n",
    "min__all_values_2014=subset['Life expectancy '].min()\n",
    "max__all_values_2014=subset['Life expectancy '].max()\n",
    "\n",
    "life_exp_norm_2014= (df_2014_dev['Life expectancy '] - min__all_values_2014 )/(max__all_values_2014-min__all_values_2014)\n",
    "df_2014_dev.insert(loc=3,column='Life_exp_norm',value=life_exp_norm_2014)\n",
    "df_2014_dev"
   ]
  },
  {
   "cell_type": "code",
   "execution_count": 62,
   "metadata": {},
   "outputs": [
    {
     "data": {
      "text/html": [
       "<div>\n",
       "<style scoped>\n",
       "    .dataframe tbody tr th:only-of-type {\n",
       "        vertical-align: middle;\n",
       "    }\n",
       "\n",
       "    .dataframe tbody tr th {\n",
       "        vertical-align: top;\n",
       "    }\n",
       "\n",
       "    .dataframe thead th {\n",
       "        text-align: right;\n",
       "    }\n",
       "</style>\n",
       "<table border=\"1\" class=\"dataframe\">\n",
       "  <thead>\n",
       "    <tr style=\"text-align: right;\">\n",
       "      <th></th>\n",
       "      <th>Year</th>\n",
       "      <th>Status</th>\n",
       "      <th>Life expectancy</th>\n",
       "      <th>Life_exp_norm</th>\n",
       "    </tr>\n",
       "    <tr>\n",
       "      <th>Country</th>\n",
       "      <th></th>\n",
       "      <th></th>\n",
       "      <th></th>\n",
       "      <th></th>\n",
       "    </tr>\n",
       "  </thead>\n",
       "  <tbody>\n",
       "    <tr>\n",
       "      <th>Afghanistan</th>\n",
       "      <td>2015</td>\n",
       "      <td>Developing</td>\n",
       "      <td>65.0</td>\n",
       "      <td>0.544592</td>\n",
       "    </tr>\n",
       "    <tr>\n",
       "      <th>Albania</th>\n",
       "      <td>2015</td>\n",
       "      <td>Developing</td>\n",
       "      <td>77.8</td>\n",
       "      <td>0.787476</td>\n",
       "    </tr>\n",
       "    <tr>\n",
       "      <th>Algeria</th>\n",
       "      <td>2015</td>\n",
       "      <td>Developing</td>\n",
       "      <td>75.6</td>\n",
       "      <td>0.745731</td>\n",
       "    </tr>\n",
       "    <tr>\n",
       "      <th>Angola</th>\n",
       "      <td>2015</td>\n",
       "      <td>Developing</td>\n",
       "      <td>52.4</td>\n",
       "      <td>0.305503</td>\n",
       "    </tr>\n",
       "    <tr>\n",
       "      <th>Antigua and Barbuda</th>\n",
       "      <td>2015</td>\n",
       "      <td>Developing</td>\n",
       "      <td>76.4</td>\n",
       "      <td>0.760911</td>\n",
       "    </tr>\n",
       "    <tr>\n",
       "      <th>...</th>\n",
       "      <td>...</td>\n",
       "      <td>...</td>\n",
       "      <td>...</td>\n",
       "      <td>...</td>\n",
       "    </tr>\n",
       "    <tr>\n",
       "      <th>Venezuela (Bolivarian Republic of)</th>\n",
       "      <td>2015</td>\n",
       "      <td>Developing</td>\n",
       "      <td>74.1</td>\n",
       "      <td>0.717268</td>\n",
       "    </tr>\n",
       "    <tr>\n",
       "      <th>Viet Nam</th>\n",
       "      <td>2015</td>\n",
       "      <td>Developing</td>\n",
       "      <td>76.0</td>\n",
       "      <td>0.753321</td>\n",
       "    </tr>\n",
       "    <tr>\n",
       "      <th>Yemen</th>\n",
       "      <td>2015</td>\n",
       "      <td>Developing</td>\n",
       "      <td>65.7</td>\n",
       "      <td>0.557875</td>\n",
       "    </tr>\n",
       "    <tr>\n",
       "      <th>Zambia</th>\n",
       "      <td>2015</td>\n",
       "      <td>Developing</td>\n",
       "      <td>61.8</td>\n",
       "      <td>0.483871</td>\n",
       "    </tr>\n",
       "    <tr>\n",
       "      <th>Zimbabwe</th>\n",
       "      <td>2015</td>\n",
       "      <td>Developing</td>\n",
       "      <td>67.0</td>\n",
       "      <td>0.582543</td>\n",
       "    </tr>\n",
       "  </tbody>\n",
       "</table>\n",
       "<p>151 rows × 4 columns</p>\n",
       "</div>"
      ],
      "text/plain": [
       "                                    Year      Status  Life expectancy   \\\n",
       "Country                                                                  \n",
       "Afghanistan                         2015  Developing              65.0   \n",
       "Albania                             2015  Developing              77.8   \n",
       "Algeria                             2015  Developing              75.6   \n",
       "Angola                              2015  Developing              52.4   \n",
       "Antigua and Barbuda                 2015  Developing              76.4   \n",
       "...                                  ...         ...               ...   \n",
       "Venezuela (Bolivarian Republic of)  2015  Developing              74.1   \n",
       "Viet Nam                            2015  Developing              76.0   \n",
       "Yemen                               2015  Developing              65.7   \n",
       "Zambia                              2015  Developing              61.8   \n",
       "Zimbabwe                            2015  Developing              67.0   \n",
       "\n",
       "                                    Life_exp_norm  \n",
       "Country                                            \n",
       "Afghanistan                              0.544592  \n",
       "Albania                                  0.787476  \n",
       "Algeria                                  0.745731  \n",
       "Angola                                   0.305503  \n",
       "Antigua and Barbuda                      0.760911  \n",
       "...                                           ...  \n",
       "Venezuela (Bolivarian Republic of)       0.717268  \n",
       "Viet Nam                                 0.753321  \n",
       "Yemen                                    0.557875  \n",
       "Zambia                                   0.483871  \n",
       "Zimbabwe                                 0.582543  \n",
       "\n",
       "[151 rows x 4 columns]"
      ]
     },
     "execution_count": 62,
     "metadata": {},
     "output_type": "execute_result"
    }
   ],
   "source": [
    "subset=data[['Year','Status','Life expectancy ']]\n",
    "df_2015_dev=subset.loc[(subset.Year==2015) & (subset.Status=='Developing')]\n",
    "\n",
    "min__all_values_2015=subset['Life expectancy '].min()\n",
    "max__all_values_2015=subset['Life expectancy '].max()\n",
    "\n",
    "life_exp_norm_2015= (df_2015_dev['Life expectancy '] - min__all_values_2015 )/(max__all_values_2015-min__all_values_2015)\n",
    "df_2015_dev.insert(loc=3,column='Life_exp_norm',value=life_exp_norm_2015)\n",
    "df_2015_dev"
   ]
  },
  {
   "cell_type": "code",
   "execution_count": 63,
   "metadata": {},
   "outputs": [
    {
     "data": {
      "image/png": "[encoded data removed]",
      "text/plain": [
       "<Figure size 432x288 with 1 Axes>"
      ]
     },
     "metadata": {
      "needs_background": "light"
     },
     "output_type": "display_data"
    }
   ],
   "source": [
    "plt.hist(life_exp_norm_2015,bins=40)\n",
    "plt.title(\"Histogram - Life expectancy - developing countries in 2015\")\n",
    "plt.show()"
   ]
  },
  {
   "cell_type": "markdown",
   "metadata": {},
   "source": [
    "MODEL 1 - Normal distirbution"
   ]
  },
  {
   "cell_type": "code",
   "execution_count": null,
   "metadata": {},
   "outputs": [],
   "source": [
    "model_ppc=CmdStanModel(stan_file='2015_dev_ppc_1.stan')\n",
    "\n",
    "R = 1000\n",
    "sim_1=model_ppc.sample(iter_sampling=R,\n",
    "                     iter_warmup=0,\n",
    "                     chains=4,\n",
    "                     fixed_param=True,\n",
    "                     seed=29042020,refresh=R)\n",
    "\n",
    "\n",
    "plt.hist(sim_1.stan_variable('life_exp'), bins=80, label= \"life_exp\", histtype='step')\n",
    "plt.legend(loc=\"upper left\")\n",
    "plt.title(\"(model 1)Histogram - prior - Life expectancy - normal distribution\")\n",
    "plt.show()"
   ]
  },
  {
   "cell_type": "code",
   "execution_count": 65,
   "metadata": {},
   "outputs": [
    {
     "name": "stderr",
     "output_type": "stream",
     "text": [
      "INFO:cmdstanpy:found newer exe file, not recompiling\n",
      "INFO:cmdstanpy:CmdStan start procesing\n",
      "chain 1 |\u001b[33m          \u001b[0m| 00:00 Status\n",
      "\u001b[A\n",
      "\n",
      "chain 1 |\u001b[34m██████▎   \u001b[0m| 00:00 Iteration: 1100 / 2000 [ 55%]  (Sampling)\n",
      "\n",
      "\u001b[A\u001b[A\n",
      "chain 1 |\u001b[34m██████████\u001b[0m| 00:00 Sampling completed                       \n",
      "chain 2 |\u001b[34m██████████\u001b[0m| 00:00 Sampling completed                       \n",
      "chain 3 |\u001b[34m██████████\u001b[0m| 00:00 Sampling completed                       \n",
      "chain 4 |\u001b[34m██████████\u001b[0m| 00:00 Sampling completed                       "
     ]
    },
    {
     "name": "stdout",
     "output_type": "stream",
     "text": [
      "                                                                                                                                                                                                                                                                                                                                "
     ]
    },
    {
     "name": "stderr",
     "output_type": "stream",
     "text": [
      "\n",
      "INFO:cmdstanpy:CmdStan done processing.\n"
     ]
    },
    {
     "name": "stdout",
     "output_type": "stream",
     "text": [
      "\n"
     ]
    },
    {
     "data": {
      "text/html": [
       "<div>\n",
       "<style scoped>\n",
       "    .dataframe tbody tr th:only-of-type {\n",
       "        vertical-align: middle;\n",
       "    }\n",
       "\n",
       "    .dataframe tbody tr th {\n",
       "        vertical-align: top;\n",
       "    }\n",
       "\n",
       "    .dataframe thead th {\n",
       "        text-align: right;\n",
       "    }\n",
       "</style>\n",
       "<table border=\"1\" class=\"dataframe\">\n",
       "  <thead>\n",
       "    <tr style=\"text-align: right;\">\n",
       "      <th></th>\n",
       "      <th>Mean</th>\n",
       "      <th>MCSE</th>\n",
       "      <th>StdDev</th>\n",
       "      <th>5%</th>\n",
       "      <th>50%</th>\n",
       "      <th>95%</th>\n",
       "      <th>N_Eff</th>\n",
       "      <th>N_Eff/s</th>\n",
       "      <th>R_hat</th>\n",
       "    </tr>\n",
       "    <tr>\n",
       "      <th>name</th>\n",
       "      <th></th>\n",
       "      <th></th>\n",
       "      <th></th>\n",
       "      <th></th>\n",
       "      <th></th>\n",
       "      <th></th>\n",
       "      <th></th>\n",
       "      <th></th>\n",
       "      <th></th>\n",
       "    </tr>\n",
       "  </thead>\n",
       "  <tbody>\n",
       "    <tr>\n",
       "      <th>lp__</th>\n",
       "      <td>220.00</td>\n",
       "      <td>0.02700</td>\n",
       "      <td>1.000</td>\n",
       "      <td>220.00</td>\n",
       "      <td>220.00</td>\n",
       "      <td>220.00</td>\n",
       "      <td>1500.00</td>\n",
       "      <td>880.0</td>\n",
       "      <td>1.0</td>\n",
       "    </tr>\n",
       "    <tr>\n",
       "      <th>mu</th>\n",
       "      <td>0.63</td>\n",
       "      <td>0.00021</td>\n",
       "      <td>0.012</td>\n",
       "      <td>0.62</td>\n",
       "      <td>0.63</td>\n",
       "      <td>0.65</td>\n",
       "      <td>3000.00</td>\n",
       "      <td>1700.0</td>\n",
       "      <td>1.0</td>\n",
       "    </tr>\n",
       "    <tr>\n",
       "      <th>sigma</th>\n",
       "      <td>0.14</td>\n",
       "      <td>0.00015</td>\n",
       "      <td>0.008</td>\n",
       "      <td>0.13</td>\n",
       "      <td>0.14</td>\n",
       "      <td>0.16</td>\n",
       "      <td>3000.00</td>\n",
       "      <td>1800.0</td>\n",
       "      <td>1.0</td>\n",
       "    </tr>\n",
       "    <tr>\n",
       "      <th>log_lik[1]</th>\n",
       "      <td>0.82</td>\n",
       "      <td>0.00140</td>\n",
       "      <td>0.083</td>\n",
       "      <td>0.72</td>\n",
       "      <td>0.83</td>\n",
       "      <td>0.92</td>\n",
       "      <td>3434.00</td>\n",
       "      <td>1991.0</td>\n",
       "      <td>1.0</td>\n",
       "    </tr>\n",
       "    <tr>\n",
       "      <th>log_lik[2]</th>\n",
       "      <td>0.44</td>\n",
       "      <td>0.00160</td>\n",
       "      <td>0.092</td>\n",
       "      <td>0.29</td>\n",
       "      <td>0.44</td>\n",
       "      <td>0.58</td>\n",
       "      <td>3180.00</td>\n",
       "      <td>1843.0</td>\n",
       "      <td>1.0</td>\n",
       "    </tr>\n",
       "    <tr>\n",
       "      <th>...</th>\n",
       "      <td>...</td>\n",
       "      <td>...</td>\n",
       "      <td>...</td>\n",
       "      <td>...</td>\n",
       "      <td>...</td>\n",
       "      <td>...</td>\n",
       "      <td>...</td>\n",
       "      <td>...</td>\n",
       "      <td>...</td>\n",
       "    </tr>\n",
       "    <tr>\n",
       "      <th>life_exp_generated[148]</th>\n",
       "      <td>0.63</td>\n",
       "      <td>0.00250</td>\n",
       "      <td>0.150</td>\n",
       "      <td>0.39</td>\n",
       "      <td>0.63</td>\n",
       "      <td>0.87</td>\n",
       "      <td>3632.00</td>\n",
       "      <td>2105.0</td>\n",
       "      <td>1.0</td>\n",
       "    </tr>\n",
       "    <tr>\n",
       "      <th>life_exp_generated[149]</th>\n",
       "      <td>0.63</td>\n",
       "      <td>0.00240</td>\n",
       "      <td>0.150</td>\n",
       "      <td>0.39</td>\n",
       "      <td>0.63</td>\n",
       "      <td>0.87</td>\n",
       "      <td>3889.00</td>\n",
       "      <td>2255.0</td>\n",
       "      <td>1.0</td>\n",
       "    </tr>\n",
       "    <tr>\n",
       "      <th>life_exp_generated[150]</th>\n",
       "      <td>0.63</td>\n",
       "      <td>0.00240</td>\n",
       "      <td>0.150</td>\n",
       "      <td>0.39</td>\n",
       "      <td>0.64</td>\n",
       "      <td>0.88</td>\n",
       "      <td>4127.00</td>\n",
       "      <td>2392.0</td>\n",
       "      <td>1.0</td>\n",
       "    </tr>\n",
       "    <tr>\n",
       "      <th>life_exp_generated[151]</th>\n",
       "      <td>0.63</td>\n",
       "      <td>0.00250</td>\n",
       "      <td>0.150</td>\n",
       "      <td>0.39</td>\n",
       "      <td>0.64</td>\n",
       "      <td>0.87</td>\n",
       "      <td>3531.00</td>\n",
       "      <td>2047.0</td>\n",
       "      <td>1.0</td>\n",
       "    </tr>\n",
       "    <tr>\n",
       "      <th>life_exp_generated_v2</th>\n",
       "      <td>0.63</td>\n",
       "      <td>0.00000</td>\n",
       "      <td>0.140</td>\n",
       "      <td>0.39</td>\n",
       "      <td>0.63</td>\n",
       "      <td>0.86</td>\n",
       "      <td>3989.92</td>\n",
       "      <td>2313.0</td>\n",
       "      <td>1.0</td>\n",
       "    </tr>\n",
       "  </tbody>\n",
       "</table>\n",
       "<p>306 rows × 9 columns</p>\n",
       "</div>"
      ],
      "text/plain": [
       "                           Mean     MCSE  StdDev      5%     50%     95%  \\\n",
       "name                                                                       \n",
       "lp__                     220.00  0.02700   1.000  220.00  220.00  220.00   \n",
       "mu                         0.63  0.00021   0.012    0.62    0.63    0.65   \n",
       "sigma                      0.14  0.00015   0.008    0.13    0.14    0.16   \n",
       "log_lik[1]                 0.82  0.00140   0.083    0.72    0.83    0.92   \n",
       "log_lik[2]                 0.44  0.00160   0.092    0.29    0.44    0.58   \n",
       "...                         ...      ...     ...     ...     ...     ...   \n",
       "life_exp_generated[148]    0.63  0.00250   0.150    0.39    0.63    0.87   \n",
       "life_exp_generated[149]    0.63  0.00240   0.150    0.39    0.63    0.87   \n",
       "life_exp_generated[150]    0.63  0.00240   0.150    0.39    0.64    0.88   \n",
       "life_exp_generated[151]    0.63  0.00250   0.150    0.39    0.64    0.87   \n",
       "life_exp_generated_v2      0.63  0.00000   0.140    0.39    0.63    0.86   \n",
       "\n",
       "                           N_Eff  N_Eff/s  R_hat  \n",
       "name                                              \n",
       "lp__                     1500.00    880.0    1.0  \n",
       "mu                       3000.00   1700.0    1.0  \n",
       "sigma                    3000.00   1800.0    1.0  \n",
       "log_lik[1]               3434.00   1991.0    1.0  \n",
       "log_lik[2]               3180.00   1843.0    1.0  \n",
       "...                          ...      ...    ...  \n",
       "life_exp_generated[148]  3632.00   2105.0    1.0  \n",
       "life_exp_generated[149]  3889.00   2255.0    1.0  \n",
       "life_exp_generated[150]  4127.00   2392.0    1.0  \n",
       "life_exp_generated[151]  3531.00   2047.0    1.0  \n",
       "life_exp_generated_v2    3989.92   2313.0    1.0  \n",
       "\n",
       "[306 rows x 9 columns]"
      ]
     },
     "execution_count": 65,
     "metadata": {},
     "output_type": "execute_result"
    }
   ],
   "source": [
    "data_to_fit=dict(N=len(life_exp_norm_2015),life_exps=life_exp_norm_2015)\n",
    "\n",
    "model_1_fit=CmdStanModel(stan_file='2015_dev_fit_1.stan')\n",
    "fit_model_1=model_1_fit.sample(data=data_to_fit,seed=28052020)\n",
    "fit_model_1.summary()"
   ]
  },
  {
   "cell_type": "code",
   "execution_count": null,
   "metadata": {},
   "outputs": [],
   "source": [
    "plt.hist(fit_model_1.stan_variable('life_exp_generated_v2'), bins=80, label= \"life_exp\", histtype='step')\n",
    "plt.legend(loc=\"upper left\")\n",
    "plt.title(\"(model 1)Histogram - post prediction - Life expectancy - normal distribution\")\n",
    "plt.show()"
   ]
  },
  {
   "cell_type": "code",
   "execution_count": 67,
   "metadata": {},
   "outputs": [
    {
     "data": {
      "image/png": "[encoded data removed]",
      "text/plain": [
       "<Figure size 432x288 with 1 Axes>"
      ]
     },
     "metadata": {
      "needs_background": "light"
     },
     "output_type": "display_data"
    }
   ],
   "source": [
    "(counts_1, bins_1) = np.histogram(life_exp_norm_2015, bins=80)\n",
    "(counts_2, bins_2) = np.histogram(sim_1.stan_variable('life_exp'), bins=80)\n",
    "(counts_3, bins_3) = np.histogram(fit_model_1.stan_variable('life_exp_generated_v2'), bins=80)\n",
    "\n",
    "plt.hist(bins_1[:-1], bins_1, weights=(2/(max(counts_1)))*counts_1)\n",
    "plt.hist(bins_2[:-1], bins_2, weights=(1/(max(counts_2)))*counts_2, histtype='step')\n",
    "plt.hist(bins_3[:-1], bins_3, weights=(1/(max(counts_3)))*counts_3, histtype='step')\n",
    "\n",
    "#plt.hist(life_exp_norm_2015,bins=80, histtype='step')\n",
    "#plt.hist(sim.stan_variable('life_exp'), bins=80, histtype='step')\n",
    "#plt.hist(fit_model_1.stan_variable('life_exp_generated'), bins=80, histtype='step')\n",
    "\n",
    "plt.legend(labels=[\"Prior\",\"Posterior predective\",\"Real\"],loc=\"upper left\")\n",
    "plt.title(\"Model 1 - scaled histogram comparissions\")\n",
    "plt.show()"
   ]
  },
  {
   "cell_type": "code",
   "execution_count": 68,
   "metadata": {},
   "outputs": [],
   "source": [
    "\n",
    "#plt.hist(life_exp_norm_2015,bins=80, histtype='step')\n",
    "#plt.hist(sim_1.stan_variable('life_exp'), bins=80, histtype='step')\n",
    "#plt.hist(fit_model_1.stan_variable('life_exp_generated'), bins=80, histtype='step')"
   ]
  },
  {
   "cell_type": "markdown",
   "metadata": {},
   "source": [
    "MODEL 2 - GAMMA Distirbution"
   ]
  },
  {
   "cell_type": "code",
   "execution_count": null,
   "metadata": {},
   "outputs": [],
   "source": [
    "model_ppc_2=CmdStanModel(stan_file='2015_dev_ppc_2.stan')\n",
    "\n",
    "R = 4000\n",
    "sim_2=model_ppc_2.sample(iter_sampling=R,\n",
    "                     iter_warmup=0,\n",
    "                     chains=4,\n",
    "                     fixed_param=True,\n",
    "                     seed=29042020,refresh=R)\n",
    "\n",
    "\n",
    "plt.hist(sim_2.stan_variable('life_exp'), bins=160, label= \"life_exp\", histtype='step')\n",
    "plt.legend(loc=\"upper left\")\n",
    "plt.title(\"(model 2)Histogram - prior - Life expectancy - gamma distribution\")\n",
    "plt.show()"
   ]
  },
  {
   "cell_type": "code",
   "execution_count": 70,
   "metadata": {},
   "outputs": [
    {
     "name": "stderr",
     "output_type": "stream",
     "text": [
      "INFO:cmdstanpy:found newer exe file, not recompiling\n",
      "INFO:cmdstanpy:CmdStan start procesing\n",
      "chain 1 |\u001b[33m          \u001b[0m| 00:00 Status\n",
      "\u001b[A\n",
      "\n",
      "chain 1 |\u001b[33m█▊        \u001b[0m| 00:00 Iteration:  200 / 2000 [ 10%]  (Warmup)\n",
      "\u001b[A\n",
      "\n",
      "\u001b[A\u001b[A\n",
      "chain 1 |\u001b[34m█████▉    \u001b[0m| 00:00 Iteration: 1001 / 2000 [ 50%]  (Sampling)\n",
      "\n",
      "\u001b[A\u001b[A\n",
      "\n",
      "\u001b[A\u001b[A\n",
      "chain 1 |\u001b[34m██████████\u001b[0m| 00:00 Sampling completed                       \n",
      "chain 2 |\u001b[34m██████████\u001b[0m| 00:00 Sampling completed                       \n",
      "chain 3 |\u001b[34m██████████\u001b[0m| 00:00 Sampling completed                       \n",
      "chain 4 |\u001b[34m██████████\u001b[0m| 00:00 Sampling completed                       "
     ]
    },
    {
     "name": "stdout",
     "output_type": "stream",
     "text": [
      "                                                                                                                                                                                                                                                                                                                                "
     ]
    },
    {
     "name": "stderr",
     "output_type": "stream",
     "text": [
      "\n",
      "INFO:cmdstanpy:CmdStan done processing.\n"
     ]
    },
    {
     "name": "stdout",
     "output_type": "stream",
     "text": [
      "\n"
     ]
    }
   ],
   "source": [
    "data_to_fit=dict(N=len(life_exp_norm_2015),life_exps=life_exp_norm_2015)\n",
    "\n",
    "model_2_fit=CmdStanModel(stan_file='2015_dev_fit_2.stan')\n",
    "fit_model_2=model_2_fit.sample(data=data_to_fit,seed=28052020)"
   ]
  },
  {
   "cell_type": "code",
   "execution_count": 71,
   "metadata": {},
   "outputs": [
    {
     "data": {
      "text/html": [
       "<div>\n",
       "<style scoped>\n",
       "    .dataframe tbody tr th:only-of-type {\n",
       "        vertical-align: middle;\n",
       "    }\n",
       "\n",
       "    .dataframe tbody tr th {\n",
       "        vertical-align: top;\n",
       "    }\n",
       "\n",
       "    .dataframe thead th {\n",
       "        text-align: right;\n",
       "    }\n",
       "</style>\n",
       "<table border=\"1\" class=\"dataframe\">\n",
       "  <thead>\n",
       "    <tr style=\"text-align: right;\">\n",
       "      <th></th>\n",
       "      <th>Mean</th>\n",
       "      <th>MCSE</th>\n",
       "      <th>StdDev</th>\n",
       "      <th>5%</th>\n",
       "      <th>50%</th>\n",
       "      <th>95%</th>\n",
       "      <th>N_Eff</th>\n",
       "      <th>N_Eff/s</th>\n",
       "      <th>R_hat</th>\n",
       "    </tr>\n",
       "    <tr>\n",
       "      <th>name</th>\n",
       "      <th></th>\n",
       "      <th></th>\n",
       "      <th></th>\n",
       "      <th></th>\n",
       "      <th></th>\n",
       "      <th></th>\n",
       "      <th></th>\n",
       "      <th></th>\n",
       "      <th></th>\n",
       "    </tr>\n",
       "  </thead>\n",
       "  <tbody>\n",
       "    <tr>\n",
       "      <th>lp__</th>\n",
       "      <td>64.000</td>\n",
       "      <td>0.02800</td>\n",
       "      <td>0.9600</td>\n",
       "      <td>62.000</td>\n",
       "      <td>64.000</td>\n",
       "      <td>65.000</td>\n",
       "      <td>1200.00</td>\n",
       "      <td>510.00</td>\n",
       "      <td>1.0</td>\n",
       "    </tr>\n",
       "    <tr>\n",
       "      <th>alpha</th>\n",
       "      <td>13.000</td>\n",
       "      <td>0.04200</td>\n",
       "      <td>1.2000</td>\n",
       "      <td>11.000</td>\n",
       "      <td>13.000</td>\n",
       "      <td>15.000</td>\n",
       "      <td>750.00</td>\n",
       "      <td>330.00</td>\n",
       "      <td>1.0</td>\n",
       "    </tr>\n",
       "    <tr>\n",
       "      <th>beta</th>\n",
       "      <td>0.048</td>\n",
       "      <td>0.00016</td>\n",
       "      <td>0.0043</td>\n",
       "      <td>0.041</td>\n",
       "      <td>0.048</td>\n",
       "      <td>0.055</td>\n",
       "      <td>730.00</td>\n",
       "      <td>320.00</td>\n",
       "      <td>1.0</td>\n",
       "    </tr>\n",
       "    <tr>\n",
       "      <th>log_lik[1]</th>\n",
       "      <td>0.820</td>\n",
       "      <td>0.00160</td>\n",
       "      <td>0.0520</td>\n",
       "      <td>0.740</td>\n",
       "      <td>0.830</td>\n",
       "      <td>0.910</td>\n",
       "      <td>1029.00</td>\n",
       "      <td>446.00</td>\n",
       "      <td>1.0</td>\n",
       "    </tr>\n",
       "    <tr>\n",
       "      <th>log_lik[2]</th>\n",
       "      <td>0.270</td>\n",
       "      <td>0.00120</td>\n",
       "      <td>0.0730</td>\n",
       "      <td>0.140</td>\n",
       "      <td>0.270</td>\n",
       "      <td>0.390</td>\n",
       "      <td>3676.00</td>\n",
       "      <td>1593.00</td>\n",
       "      <td>1.0</td>\n",
       "    </tr>\n",
       "    <tr>\n",
       "      <th>...</th>\n",
       "      <td>...</td>\n",
       "      <td>...</td>\n",
       "      <td>...</td>\n",
       "      <td>...</td>\n",
       "      <td>...</td>\n",
       "      <td>...</td>\n",
       "      <td>...</td>\n",
       "      <td>...</td>\n",
       "      <td>...</td>\n",
       "    </tr>\n",
       "    <tr>\n",
       "      <th>life_exp_generated[148]</th>\n",
       "      <td>0.630</td>\n",
       "      <td>0.00290</td>\n",
       "      <td>0.1800</td>\n",
       "      <td>0.380</td>\n",
       "      <td>0.620</td>\n",
       "      <td>0.950</td>\n",
       "      <td>3927.00</td>\n",
       "      <td>1702.00</td>\n",
       "      <td>1.0</td>\n",
       "    </tr>\n",
       "    <tr>\n",
       "      <th>life_exp_generated[149]</th>\n",
       "      <td>0.630</td>\n",
       "      <td>0.00290</td>\n",
       "      <td>0.1700</td>\n",
       "      <td>0.370</td>\n",
       "      <td>0.610</td>\n",
       "      <td>0.940</td>\n",
       "      <td>3645.00</td>\n",
       "      <td>1580.00</td>\n",
       "      <td>1.0</td>\n",
       "    </tr>\n",
       "    <tr>\n",
       "      <th>life_exp_generated[150]</th>\n",
       "      <td>0.630</td>\n",
       "      <td>0.00280</td>\n",
       "      <td>0.1800</td>\n",
       "      <td>0.370</td>\n",
       "      <td>0.620</td>\n",
       "      <td>0.950</td>\n",
       "      <td>4016.00</td>\n",
       "      <td>1741.00</td>\n",
       "      <td>1.0</td>\n",
       "    </tr>\n",
       "    <tr>\n",
       "      <th>life_exp_generated[151]</th>\n",
       "      <td>0.630</td>\n",
       "      <td>0.00270</td>\n",
       "      <td>0.1700</td>\n",
       "      <td>0.380</td>\n",
       "      <td>0.620</td>\n",
       "      <td>0.940</td>\n",
       "      <td>4056.00</td>\n",
       "      <td>1758.00</td>\n",
       "      <td>1.0</td>\n",
       "    </tr>\n",
       "    <tr>\n",
       "      <th>life_exp_generated_v2</th>\n",
       "      <td>0.640</td>\n",
       "      <td>0.00000</td>\n",
       "      <td>0.1800</td>\n",
       "      <td>0.380</td>\n",
       "      <td>0.620</td>\n",
       "      <td>0.960</td>\n",
       "      <td>3938.32</td>\n",
       "      <td>1707.12</td>\n",
       "      <td>1.0</td>\n",
       "    </tr>\n",
       "  </tbody>\n",
       "</table>\n",
       "<p>306 rows × 9 columns</p>\n",
       "</div>"
      ],
      "text/plain": [
       "                           Mean     MCSE  StdDev      5%     50%     95%  \\\n",
       "name                                                                       \n",
       "lp__                     64.000  0.02800  0.9600  62.000  64.000  65.000   \n",
       "alpha                    13.000  0.04200  1.2000  11.000  13.000  15.000   \n",
       "beta                      0.048  0.00016  0.0043   0.041   0.048   0.055   \n",
       "log_lik[1]                0.820  0.00160  0.0520   0.740   0.830   0.910   \n",
       "log_lik[2]                0.270  0.00120  0.0730   0.140   0.270   0.390   \n",
       "...                         ...      ...     ...     ...     ...     ...   \n",
       "life_exp_generated[148]   0.630  0.00290  0.1800   0.380   0.620   0.950   \n",
       "life_exp_generated[149]   0.630  0.00290  0.1700   0.370   0.610   0.940   \n",
       "life_exp_generated[150]   0.630  0.00280  0.1800   0.370   0.620   0.950   \n",
       "life_exp_generated[151]   0.630  0.00270  0.1700   0.380   0.620   0.940   \n",
       "life_exp_generated_v2     0.640  0.00000  0.1800   0.380   0.620   0.960   \n",
       "\n",
       "                           N_Eff  N_Eff/s  R_hat  \n",
       "name                                              \n",
       "lp__                     1200.00   510.00    1.0  \n",
       "alpha                     750.00   330.00    1.0  \n",
       "beta                      730.00   320.00    1.0  \n",
       "log_lik[1]               1029.00   446.00    1.0  \n",
       "log_lik[2]               3676.00  1593.00    1.0  \n",
       "...                          ...      ...    ...  \n",
       "life_exp_generated[148]  3927.00  1702.00    1.0  \n",
       "life_exp_generated[149]  3645.00  1580.00    1.0  \n",
       "life_exp_generated[150]  4016.00  1741.00    1.0  \n",
       "life_exp_generated[151]  4056.00  1758.00    1.0  \n",
       "life_exp_generated_v2    3938.32  1707.12    1.0  \n",
       "\n",
       "[306 rows x 9 columns]"
      ]
     },
     "execution_count": 71,
     "metadata": {},
     "output_type": "execute_result"
    }
   ],
   "source": [
    "fit_model_2.summary()"
   ]
  },
  {
   "cell_type": "code",
   "execution_count": null,
   "metadata": {},
   "outputs": [],
   "source": [
    "median_generated_model_2=np.percentile(fit_model_2.stan_variable('life_exp_generated')[:,:],50,axis=0)\n",
    "\n",
    "plt.hist(fit_model_2.stan_variable('life_exp_generated_v2'), bins=80, label= \"life_exp\", histtype='step')\n",
    "plt.legend(loc=\"upper left\")\n",
    "plt.title(\"(model 2)Histogram - post prediction - Life expectancy - normal distribution\")\n",
    "plt.show()"
   ]
  },
  {
   "cell_type": "code",
   "execution_count": 73,
   "metadata": {},
   "outputs": [
    {
     "data": {
      "image/png": "[encoded data removed]",
      "text/plain": [
       "<Figure size 432x288 with 1 Axes>"
      ]
     },
     "metadata": {
      "needs_background": "light"
     },
     "output_type": "display_data"
    }
   ],
   "source": [
    "(counts_1, bins_1) = np.histogram(life_exp_norm_2015, bins=80)\n",
    "(counts_2, bins_2) = np.histogram(sim_2.stan_variable('life_exp'), bins=80)\n",
    "(counts_3, bins_3) = np.histogram(fit_model_2.stan_variable('life_exp_generated_v2'), bins=80)\n",
    "\n",
    "plt.hist(bins_1[:-1], bins_1, weights=(2/(max(counts_1)))*counts_1)\n",
    "plt.hist(bins_2[:-1], bins_2, weights=(1/(max(counts_2)))*counts_2, histtype='step')\n",
    "plt.hist(bins_3[:-1], bins_3, weights=(1/(max(counts_3)))*counts_3, histtype='step')\n",
    "\n",
    "#plt.hist(life_exp_norm_2015,bins=80, histtype='step')\n",
    "#plt.hist(sim.stan_variable('life_exp'), bins=80, histtype='step')\n",
    "#plt.hist(fit_model_1.stan_variable('life_exp_generated'), bins=80, histtype='step')\n",
    "\n",
    "plt.legend(labels=[\"Prior\",\"Posterior predective\",\"Real\"],loc=\"upper left\")\n",
    "plt.title(\"Model 2 - scaled histogram comparissions\")\n",
    "plt.show()"
   ]
  },
  {
   "cell_type": "markdown",
   "metadata": {},
   "source": [
    "COMPARISSON - WAIC and LOO"
   ]
  },
  {
   "cell_type": "code",
   "execution_count": 74,
   "metadata": {},
   "outputs": [
    {
     "name": "stderr",
     "output_type": "stream",
     "text": [
      "c:\\ProgramData\\Anaconda3\\lib\\site-packages\\arviz\\stats\\stats.py:811: UserWarning: Estimated shape parameter of Pareto distribution is greater than 0.7 for one or more samples. You should consider using a more robust model, this is because importance sampling is less likely to work well if the marginal posterior and LOO posterior are very different. This is more likely to happen with a non-robust model and highly influential observations.\n",
      "  warnings.warn(\n"
     ]
    },
    {
     "data": {
      "text/plain": [
       "<AxesSubplot:xlabel='Log'>"
      ]
     },
     "execution_count": 74,
     "metadata": {},
     "output_type": "execute_result"
    },
    {
     "data": {
      "image/png": "[encoded data removed]",
      "text/plain": [
       "<Figure size 432x144 with 1 Axes>"
      ]
     },
     "metadata": {
      "needs_background": "light"
     },
     "output_type": "display_data"
    },
    {
     "data": {
      "image/png": "[encoded data removed]",
      "text/plain": [
       "<Figure size 432x144 with 1 Axes>"
      ]
     },
     "metadata": {
      "needs_background": "light"
     },
     "output_type": "display_data"
    }
   ],
   "source": [
    "results = {'result_model_1': fit_model_1,'result_model_2': fit_model_2}\n",
    "comparisson_waic_1 = az.compare(results, ic = 'waic')\n",
    "az.plot_compare(comparisson_waic_1)\n",
    "comparisson_loo_1 = az.compare(results, ic = 'loo')\n",
    "az.plot_compare(comparisson_loo_1)"
   ]
  },
  {
   "cell_type": "code",
   "execution_count": 77,
   "metadata": {},
   "outputs": [
    {
     "data": {
      "text/html": [
       "<div>\n",
       "<style scoped>\n",
       "    .dataframe tbody tr th:only-of-type {\n",
       "        vertical-align: middle;\n",
       "    }\n",
       "\n",
       "    .dataframe tbody tr th {\n",
       "        vertical-align: top;\n",
       "    }\n",
       "\n",
       "    .dataframe thead th {\n",
       "        text-align: right;\n",
       "    }\n",
       "</style>\n",
       "<table border=\"1\" class=\"dataframe\">\n",
       "  <thead>\n",
       "    <tr style=\"text-align: right;\">\n",
       "      <th></th>\n",
       "      <th>rank</th>\n",
       "      <th>waic</th>\n",
       "      <th>p_waic</th>\n",
       "      <th>d_waic</th>\n",
       "      <th>weight</th>\n",
       "      <th>se</th>\n",
       "      <th>dse</th>\n",
       "      <th>warning</th>\n",
       "      <th>waic_scale</th>\n",
       "    </tr>\n",
       "  </thead>\n",
       "  <tbody>\n",
       "    <tr>\n",
       "      <th>result_model_1</th>\n",
       "      <td>0</td>\n",
       "      <td>78.245564</td>\n",
       "      <td>2.120469</td>\n",
       "      <td>0.000000</td>\n",
       "      <td>1.000000e+00</td>\n",
       "      <td>7.464507</td>\n",
       "      <td>0.000000</td>\n",
       "      <td>False</td>\n",
       "      <td>log</td>\n",
       "    </tr>\n",
       "    <tr>\n",
       "      <th>result_model_2</th>\n",
       "      <td>1</td>\n",
       "      <td>69.275177</td>\n",
       "      <td>1.089976</td>\n",
       "      <td>8.970386</td>\n",
       "      <td>1.474376e-13</td>\n",
       "      <td>5.717428</td>\n",
       "      <td>2.622727</td>\n",
       "      <td>False</td>\n",
       "      <td>log</td>\n",
       "    </tr>\n",
       "  </tbody>\n",
       "</table>\n",
       "</div>"
      ],
      "text/plain": [
       "                rank       waic    p_waic    d_waic        weight        se  \\\n",
       "result_model_1     0  78.245564  2.120469  0.000000  1.000000e+00  7.464507   \n",
       "result_model_2     1  69.275177  1.089976  8.970386  1.474376e-13  5.717428   \n",
       "\n",
       "                     dse  warning waic_scale  \n",
       "result_model_1  0.000000    False        log  \n",
       "result_model_2  2.622727    False        log  "
      ]
     },
     "execution_count": 77,
     "metadata": {},
     "output_type": "execute_result"
    }
   ],
   "source": [
    "comparisson_waic_1"
   ]
  },
  {
   "cell_type": "code",
   "execution_count": 75,
   "metadata": {},
   "outputs": [
    {
     "data": {
      "image/png": "[encoded data removed]",
      "text/plain": [
       "<Figure size 432x288 with 1 Axes>"
      ]
     },
     "metadata": {
      "needs_background": "light"
     },
     "output_type": "display_data"
    }
   ],
   "source": [
    "(counts_1, bins_1) = np.histogram(life_exp_norm_2015, bins=80)\n",
    "(counts_3, bins_3) = np.histogram(fit_model_1.stan_variable('life_exp_generated_v2'), bins=80)\n",
    "\n",
    "plt.hist(bins_1[:-1], bins_1, weights=(2/(max(counts_1)))*counts_1)\n",
    "plt.hist(bins_3[:-1], bins_3, weights=(1/(max(counts_3)))*counts_3, histtype='step')\n",
    "\n",
    "#plt.hist(life_exp_norm_2015,bins=80, histtype='step')\n",
    "#plt.hist(sim.stan_variable('life_exp'), bins=80, histtype='step')\n",
    "#plt.hist(fit_model_1.stan_variable('life_exp_generated'), bins=80, histtype='step')\n",
    "\n",
    "plt.legend(labels=[\"Posterior predective\",\"Real\"],loc=\"upper left\")\n",
    "plt.title(\"Model 1 - scaled histogram comparissions 2015\")\n",
    "plt.show()\n"
   ]
  },
  {
   "cell_type": "code",
   "execution_count": 76,
   "metadata": {},
   "outputs": [
    {
     "data": {
      "image/png": "[encoded data removed]",
      "text/plain": [
       "<Figure size 432x288 with 1 Axes>"
      ]
     },
     "metadata": {
      "needs_background": "light"
     },
     "output_type": "display_data"
    }
   ],
   "source": [
    "(counts_1, bins_1) = np.histogram(life_exp_norm_2014, bins=80)\n",
    "(counts_3, bins_3) = np.histogram(fit_model_1.stan_variable('life_exp_generated_v2'), bins=80)\n",
    "\n",
    "plt.hist(bins_1[:-1], bins_1, weights=(2/(max(counts_1)))*counts_1)\n",
    "plt.hist(bins_3[:-1], bins_3, weights=(1/(max(counts_3)))*counts_3, histtype='step')\n",
    "\n",
    "#plt.hist(life_exp_norm_2015,bins=80, histtype='step')\n",
    "#plt.hist(sim.stan_variable('life_exp'), bins=80, histtype='step')\n",
    "#plt.hist(fit_model_1.stan_variable('life_exp_generated'), bins=80, histtype='step')\n",
    "\n",
    "plt.legend(labels=[\"Posterior predective\",\"Real\"],loc=\"upper left\")\n",
    "plt.title(\"Model 1 - scaled histogram comparissions 2014\")\n",
    "plt.show()"
   ]
  }
 ],
 "metadata": {
  "interpreter": {
   "hash": "ad2bdc8ecc057115af97d19610ffacc2b4e99fae6737bb82f5d7fb13d2f2c186"
  },
  "kernelspec": {
   "display_name": "Python 3.9.12 ('base')",
   "language": "python",
   "name": "python3"
  },
  "language_info": {
   "codemirror_mode": {
    "name": "ipython",
    "version": 3
   },
   "file_extension": ".py",
   "mimetype": "text/x-python",
   "name": "python",
   "nbconvert_exporter": "python",
   "pygments_lexer": "ipython3",
   "version": "3.9.12"
  },
  "orig_nbformat": 4
 },
 "nbformat": 4,
 "nbformat_minor": 2
}
